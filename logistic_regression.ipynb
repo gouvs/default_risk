{
 "cells": [
  {
   "cell_type": "code",
   "execution_count": 1,
   "metadata": {},
   "outputs": [],
   "source": [
    "import numpy as np\n",
    "import pandas as pd"
   ]
  },
  {
   "cell_type": "markdown",
   "metadata": {},
   "source": [
    "### Import the data and turn the columns to lowercase to make them easier to work with"
   ]
  },
  {
   "cell_type": "code",
   "execution_count": 2,
   "metadata": {},
   "outputs": [],
   "source": [
    "train = pd.read_csv('data/application_train.csv')"
   ]
  },
  {
   "cell_type": "code",
   "execution_count": 3,
   "metadata": {},
   "outputs": [],
   "source": [
    "train.columns = map(str.lower, train.columns)"
   ]
  },
  {
   "cell_type": "code",
   "execution_count": 4,
   "metadata": {},
   "outputs": [],
   "source": [
    "test = pd.read_csv('data/application_test.csv')"
   ]
  },
  {
   "cell_type": "code",
   "execution_count": 5,
   "metadata": {},
   "outputs": [],
   "source": [
    "test.columns = map(str.lower, test.columns)"
   ]
  },
  {
   "cell_type": "markdown",
   "metadata": {},
   "source": [
    "### Create copies of the data to use for the first model"
   ]
  },
  {
   "cell_type": "code",
   "execution_count": 6,
   "metadata": {},
   "outputs": [],
   "source": [
    "train_1 = train.copy()\n",
    "test_1 = test.copy()"
   ]
  },
  {
   "cell_type": "code",
   "execution_count": 7,
   "metadata": {},
   "outputs": [
    {
     "data": {
      "text/plain": [
       "(307511, 122)"
      ]
     },
     "execution_count": 7,
     "metadata": {},
     "output_type": "execute_result"
    }
   ],
   "source": [
    "train_1.shape"
   ]
  },
  {
   "cell_type": "code",
   "execution_count": 8,
   "metadata": {},
   "outputs": [
    {
     "data": {
      "text/plain": [
       "307511"
      ]
     },
     "execution_count": 8,
     "metadata": {},
     "output_type": "execute_result"
    }
   ],
   "source": [
    "len(train_1)"
   ]
  },
  {
   "cell_type": "markdown",
   "metadata": {},
   "source": [
    "### Getting rid of the extra categorical values from the train dataset\n",
    "                          (see EDA workbook)"
   ]
  },
  {
   "cell_type": "markdown",
   "metadata": {},
   "source": [
    "#### First, find the indexes"
   ]
  },
  {
   "cell_type": "code",
   "execution_count": 10,
   "metadata": {},
   "outputs": [
    {
     "name": "stdout",
     "output_type": "stream",
     "text": [
      "Train indexes: [35657, 38566, 83382, 189640, 48949, 109612, 218269, 291432, 295458, 41982, 187348]\n"
     ]
    }
   ],
   "source": [
    "delete_from_columns = ['code_gender', 'name_income_type', 'name_family_status']\n",
    "values_to_delete = ['XNA', 'Maternity leave', 'Unknown']\n",
    "train_indexes_to_delete = []\n",
    "test_indexes_to_delete = []\n",
    "for i, e in zip(delete_from_columns, values_to_delete):\n",
    "    bad_train_data = train_1[i] == e\n",
    "    train_indexes_to_delete.extend(train_1.index[bad_train_data].tolist())\n",
    "    \n",
    "    bad_test_data = test_1[i] == e\n",
    "    test_indexes_to_delete.extend(test_1.index[bad_test_data].tolist())\n",
    "print(f'Train indexes: {train_indexes_to_delete}')\n",
    "print(f'Test indexes: {test_indexes_to_delete}')\n"
   ]
  },
  {
   "cell_type": "markdown",
   "metadata": {},
   "source": [
    "#### Check that we have the right rows\n",
    "##### Note 'XNA', 'Maternity leave', and 'Unknown'"
   ]
  },
  {
   "cell_type": "code",
   "execution_count": 12,
   "metadata": {},
   "outputs": [
    {
     "data": {
      "text/html": [
       "<div>\n",
       "<style scoped>\n",
       "    .dataframe tbody tr th:only-of-type {\n",
       "        vertical-align: middle;\n",
       "    }\n",
       "\n",
       "    .dataframe tbody tr th {\n",
       "        vertical-align: top;\n",
       "    }\n",
       "\n",
       "    .dataframe thead th {\n",
       "        text-align: right;\n",
       "    }\n",
       "</style>\n",
       "<table border=\"1\" class=\"dataframe\">\n",
       "  <thead>\n",
       "    <tr style=\"text-align: right;\">\n",
       "      <th></th>\n",
       "      <th>code_gender</th>\n",
       "      <th>name_income_type</th>\n",
       "      <th>name_family_status</th>\n",
       "    </tr>\n",
       "  </thead>\n",
       "  <tbody>\n",
       "    <tr>\n",
       "      <td>35657</td>\n",
       "      <td>XNA</td>\n",
       "      <td>Working</td>\n",
       "      <td>Married</td>\n",
       "    </tr>\n",
       "    <tr>\n",
       "      <td>38566</td>\n",
       "      <td>XNA</td>\n",
       "      <td>Working</td>\n",
       "      <td>Married</td>\n",
       "    </tr>\n",
       "    <tr>\n",
       "      <td>83382</td>\n",
       "      <td>XNA</td>\n",
       "      <td>Working</td>\n",
       "      <td>Married</td>\n",
       "    </tr>\n",
       "    <tr>\n",
       "      <td>189640</td>\n",
       "      <td>XNA</td>\n",
       "      <td>Commercial associate</td>\n",
       "      <td>Civil marriage</td>\n",
       "    </tr>\n",
       "    <tr>\n",
       "      <td>48949</td>\n",
       "      <td>M</td>\n",
       "      <td>Maternity leave</td>\n",
       "      <td>Married</td>\n",
       "    </tr>\n",
       "    <tr>\n",
       "      <td>109612</td>\n",
       "      <td>F</td>\n",
       "      <td>Maternity leave</td>\n",
       "      <td>Married</td>\n",
       "    </tr>\n",
       "    <tr>\n",
       "      <td>218269</td>\n",
       "      <td>F</td>\n",
       "      <td>Maternity leave</td>\n",
       "      <td>Married</td>\n",
       "    </tr>\n",
       "    <tr>\n",
       "      <td>291432</td>\n",
       "      <td>F</td>\n",
       "      <td>Maternity leave</td>\n",
       "      <td>Married</td>\n",
       "    </tr>\n",
       "    <tr>\n",
       "      <td>295458</td>\n",
       "      <td>F</td>\n",
       "      <td>Maternity leave</td>\n",
       "      <td>Married</td>\n",
       "    </tr>\n",
       "    <tr>\n",
       "      <td>41982</td>\n",
       "      <td>M</td>\n",
       "      <td>Commercial associate</td>\n",
       "      <td>Unknown</td>\n",
       "    </tr>\n",
       "    <tr>\n",
       "      <td>187348</td>\n",
       "      <td>F</td>\n",
       "      <td>Commercial associate</td>\n",
       "      <td>Unknown</td>\n",
       "    </tr>\n",
       "  </tbody>\n",
       "</table>\n",
       "</div>"
      ],
      "text/plain": [
       "       code_gender      name_income_type name_family_status\n",
       "35657          XNA               Working            Married\n",
       "38566          XNA               Working            Married\n",
       "83382          XNA               Working            Married\n",
       "189640         XNA  Commercial associate     Civil marriage\n",
       "48949            M       Maternity leave            Married\n",
       "109612           F       Maternity leave            Married\n",
       "218269           F       Maternity leave            Married\n",
       "291432           F       Maternity leave            Married\n",
       "295458           F       Maternity leave            Married\n",
       "41982            M  Commercial associate            Unknown\n",
       "187348           F  Commercial associate            Unknown"
      ]
     },
     "execution_count": 12,
     "metadata": {},
     "output_type": "execute_result"
    }
   ],
   "source": [
    "train_1.iloc[train_indexes_to_delete].loc[:,['code_gender', 'name_income_type', 'name_family_status']]"
   ]
  },
  {
   "cell_type": "code",
   "execution_count": 13,
   "metadata": {},
   "outputs": [],
   "source": [
    "train_1.drop(train_indexes_to_delete, inplace=True)"
   ]
  },
  {
   "cell_type": "markdown",
   "metadata": {},
   "source": [
    "### Getting rid of all the rows that have more than 50% null values"
   ]
  },
  {
   "cell_type": "code",
   "execution_count": 14,
   "metadata": {},
   "outputs": [],
   "source": [
    "null_threshold = 0.5\n",
    "\n",
    "column_list = train_1.isnull().sum(axis = 0) / train_1.count(axis = 0)\n",
    "\n",
    "train_1 = train_1.loc[:,list(column_list.apply(lambda x: x < null_threshold))]\n",
    "\n",
    "#column_list.apply(lambda x: x < 0.5).head(50)"
   ]
  },
  {
   "cell_type": "markdown",
   "metadata": {},
   "source": [
    "### Dropping null values from the columns with categorical data"
   ]
  },
  {
   "cell_type": "code",
   "execution_count": 15,
   "metadata": {},
   "outputs": [],
   "source": [
    "object_columns = [column for column in train_1.columns if train_1[column].dtype=='object']\n",
    "\n",
    "# train_copy_1 = train_copy_1.loc[train_copy_1[object_columns].notnull()]\n",
    "train_1.dropna(subset=object_columns, inplace=True)\n",
    "# train_copy_1['amt_req_credit_bureau_hour'].value_counts()"
   ]
  },
  {
   "cell_type": "code",
   "execution_count": 16,
   "metadata": {},
   "outputs": [
    {
     "data": {
      "text/plain": [
       "(210207, 73)"
      ]
     },
     "execution_count": 16,
     "metadata": {},
     "output_type": "execute_result"
    }
   ],
   "source": [
    "train_1.shape"
   ]
  },
  {
   "cell_type": "code",
   "execution_count": 17,
   "metadata": {},
   "outputs": [
    {
     "data": {
      "text/plain": [
       "(48744, 121)"
      ]
     },
     "execution_count": 17,
     "metadata": {},
     "output_type": "execute_result"
    }
   ],
   "source": [
    "test_1.shape"
   ]
  },
  {
   "cell_type": "code",
   "execution_count": 18,
   "metadata": {},
   "outputs": [],
   "source": [
    "# train_copy_1.dropna(inplace=True)"
   ]
  },
  {
   "cell_type": "code",
   "execution_count": 19,
   "metadata": {},
   "outputs": [],
   "source": [
    "# train_copy_1.shape"
   ]
  },
  {
   "cell_type": "code",
   "execution_count": 20,
   "metadata": {},
   "outputs": [],
   "source": [
    "# Create a list of the target values to use as labels\n",
    "labels = train_1['target'].values"
   ]
  },
  {
   "cell_type": "code",
   "execution_count": 21,
   "metadata": {},
   "outputs": [
    {
     "data": {
      "text/plain": [
       "210207"
      ]
     },
     "execution_count": 21,
     "metadata": {},
     "output_type": "execute_result"
    }
   ],
   "source": [
    "len(labels)"
   ]
  },
  {
   "cell_type": "code",
   "execution_count": 22,
   "metadata": {},
   "outputs": [],
   "source": [
    "# Need to make the columns the same in the training and testing datasets\n",
    "train_columns = list(train_1.columns)\n",
    "test_columns = list(test_1.columns)"
   ]
  },
  {
   "cell_type": "code",
   "execution_count": 23,
   "metadata": {},
   "outputs": [
    {
     "name": "stdout",
     "output_type": "stream",
     "text": [
      "Dropped from train: target\n",
      "Dropped from test: own_car_age\n",
      "Dropped from test: ext_source_1\n",
      "Dropped from test: apartments_avg\n",
      "Dropped from test: basementarea_avg\n",
      "Dropped from test: years_beginexpluatation_avg\n",
      "Dropped from test: years_build_avg\n",
      "Dropped from test: commonarea_avg\n",
      "Dropped from test: elevators_avg\n",
      "Dropped from test: entrances_avg\n",
      "Dropped from test: floorsmax_avg\n",
      "Dropped from test: floorsmin_avg\n",
      "Dropped from test: landarea_avg\n",
      "Dropped from test: livingapartments_avg\n",
      "Dropped from test: livingarea_avg\n",
      "Dropped from test: nonlivingapartments_avg\n",
      "Dropped from test: nonlivingarea_avg\n",
      "Dropped from test: apartments_mode\n",
      "Dropped from test: basementarea_mode\n",
      "Dropped from test: years_beginexpluatation_mode\n",
      "Dropped from test: years_build_mode\n",
      "Dropped from test: commonarea_mode\n",
      "Dropped from test: elevators_mode\n",
      "Dropped from test: entrances_mode\n",
      "Dropped from test: floorsmax_mode\n",
      "Dropped from test: floorsmin_mode\n",
      "Dropped from test: landarea_mode\n",
      "Dropped from test: livingapartments_mode\n",
      "Dropped from test: livingarea_mode\n",
      "Dropped from test: nonlivingapartments_mode\n",
      "Dropped from test: nonlivingarea_mode\n",
      "Dropped from test: apartments_medi\n",
      "Dropped from test: basementarea_medi\n",
      "Dropped from test: years_beginexpluatation_medi\n",
      "Dropped from test: years_build_medi\n",
      "Dropped from test: commonarea_medi\n",
      "Dropped from test: elevators_medi\n",
      "Dropped from test: entrances_medi\n",
      "Dropped from test: floorsmax_medi\n",
      "Dropped from test: floorsmin_medi\n",
      "Dropped from test: landarea_medi\n",
      "Dropped from test: livingapartments_medi\n",
      "Dropped from test: livingarea_medi\n",
      "Dropped from test: nonlivingapartments_medi\n",
      "Dropped from test: nonlivingarea_medi\n",
      "Dropped from test: fondkapremont_mode\n",
      "Dropped from test: housetype_mode\n",
      "Dropped from test: totalarea_mode\n",
      "Dropped from test: wallsmaterial_mode\n",
      "Dropped from test: emergencystate_mode\n"
     ]
    }
   ],
   "source": [
    "for column in train_columns:\n",
    "    if column not in test_columns:\n",
    "#         if column == 'target':\n",
    "#             pass\n",
    "#         else:\n",
    "        print(f'Dropped from train: {column}')\n",
    "        train_1.drop(column, axis=1, inplace=True)\n",
    "        \n",
    "for column in test_columns:\n",
    "    if column not in train_columns:\n",
    "        print(f'Dropped from test: {column}')\n",
    "        test_1.drop(column, axis=1, inplace=True)"
   ]
  },
  {
   "cell_type": "code",
   "execution_count": 24,
   "metadata": {},
   "outputs": [
    {
     "data": {
      "text/plain": [
       "72"
      ]
     },
     "execution_count": 24,
     "metadata": {},
     "output_type": "execute_result"
    }
   ],
   "source": [
    "features = list(train_1.columns)\n",
    "len(features)"
   ]
  },
  {
   "cell_type": "code",
   "execution_count": 25,
   "metadata": {},
   "outputs": [
    {
     "data": {
      "text/plain": [
       "(210207, 72)"
      ]
     },
     "execution_count": 25,
     "metadata": {},
     "output_type": "execute_result"
    }
   ],
   "source": [
    "train_1.shape"
   ]
  },
  {
   "cell_type": "code",
   "execution_count": 26,
   "metadata": {},
   "outputs": [
    {
     "data": {
      "text/plain": [
       "(48744, 72)"
      ]
     },
     "execution_count": 26,
     "metadata": {},
     "output_type": "execute_result"
    }
   ],
   "source": [
    "test_1.shape"
   ]
  },
  {
   "cell_type": "code",
   "execution_count": 27,
   "metadata": {},
   "outputs": [],
   "source": [
    "train_1 = pd.get_dummies(train_1)"
   ]
  },
  {
   "cell_type": "code",
   "execution_count": 28,
   "metadata": {},
   "outputs": [],
   "source": [
    "test_1 = pd.get_dummies(test_1)"
   ]
  },
  {
   "cell_type": "code",
   "execution_count": 29,
   "metadata": {},
   "outputs": [
    {
     "data": {
      "text/plain": [
       "(210207, 179)"
      ]
     },
     "execution_count": 29,
     "metadata": {},
     "output_type": "execute_result"
    }
   ],
   "source": [
    "train_1.shape"
   ]
  },
  {
   "cell_type": "code",
   "execution_count": 30,
   "metadata": {},
   "outputs": [
    {
     "data": {
      "text/plain": [
       "(48744, 181)"
      ]
     },
     "execution_count": 30,
     "metadata": {},
     "output_type": "execute_result"
    }
   ],
   "source": [
    "test_1.shape"
   ]
  },
  {
   "cell_type": "code",
   "execution_count": 31,
   "metadata": {},
   "outputs": [
    {
     "name": "stdout",
     "output_type": "stream",
     "text": [
      "Dropped from test: name_income_type_Unemployed\n",
      "Dropped from test: organization_type_XNA\n"
     ]
    }
   ],
   "source": [
    "train_columns2 = list(train_1.columns)\n",
    "test_columns2 = list(test_1.columns)\n",
    "for column in train_columns2:\n",
    "    if column not in test_columns2:\n",
    "#         if column == 'target':\n",
    "#             pass\n",
    "#         else:\n",
    "        print(f'Dropped from train: {column}')\n",
    "        train_1.drop(column, axis=1, inplace=True)\n",
    "        \n",
    "for column in test_columns2:\n",
    "    if column not in train_columns2:\n",
    "        print(f'Dropped from test: {column}')\n",
    "        test_1.drop(column, axis=1, inplace=True)"
   ]
  },
  {
   "cell_type": "code",
   "execution_count": null,
   "metadata": {},
   "outputs": [],
   "source": [
    "train_1.shape"
   ]
  },
  {
   "cell_type": "code",
   "execution_count": null,
   "metadata": {},
   "outputs": [],
   "source": [
    "test_1.shape"
   ]
  },
  {
   "cell_type": "code",
   "execution_count": null,
   "metadata": {},
   "outputs": [],
   "source": []
  },
  {
   "cell_type": "code",
   "execution_count": null,
   "metadata": {},
   "outputs": [],
   "source": []
  },
  {
   "cell_type": "code",
   "execution_count": null,
   "metadata": {},
   "outputs": [],
   "source": [
    "from sklearn.impute import SimpleImputer\n",
    "imputer = SimpleImputer(missing_values=np.nan, strategy='mean')\n",
    "imputer.fit(train_copy_1)\n",
    "imputer.transform(train_copy_1)\n",
    "\n",
    "imputer.fit(test_copy_1)\n",
    "imputer.transform(test_copy_1)"
   ]
  },
  {
   "cell_type": "code",
   "execution_count": null,
   "metadata": {},
   "outputs": [],
   "source": [
    "# # For each column in the training dataset\n",
    "# for column in train.columns:\n",
    "# # If the column contains the object (categorical) classes\n",
    "#     if train[column].dtype == 'object':\n",
    "# # Create a set of numerical labels to represent the categories\n",
    "#         label_encoder.fit(train[column])\n",
    "#     # Then replace all of the categories with numerical labels\n",
    "#         train[column] = label_encoder.transform(str(train[column]))\n",
    "#     # and then (create separate columns??) I don't know what the binary matrix is for...\n",
    "#         train[column] = to_categorical(train[column])\n",
    "# # And do the same thing to the test set so that the columns are the same\n",
    "#         test[column] = label_encoder.transform(test[column])\n",
    "#         test[column] = to_categorical(test[column])\n",
    "        \n",
    "        \n",
    "        \n",
    "# #     print(column.title())\n",
    "# #     print(train[column].dtype)"
   ]
  },
  {
   "cell_type": "code",
   "execution_count": null,
   "metadata": {},
   "outputs": [],
   "source": [
    "train_copy_1.head()"
   ]
  },
  {
   "cell_type": "code",
   "execution_count": null,
   "metadata": {},
   "outputs": [],
   "source": [
    "train_copy_1.dtypes.value_counts()"
   ]
  },
  {
   "cell_type": "code",
   "execution_count": null,
   "metadata": {},
   "outputs": [],
   "source": [
    "from sklearn.preprocessing import MinMaxScaler\n",
    "scaler = MinMaxScaler()"
   ]
  },
  {
   "cell_type": "code",
   "execution_count": null,
   "metadata": {},
   "outputs": [],
   "source": [
    "scaler.fit(train_copy_1)"
   ]
  },
  {
   "cell_type": "code",
   "execution_count": null,
   "metadata": {},
   "outputs": [],
   "source": [
    "scaler.transform(train_copy_1)\n",
    "scaler.transform(test_copy_1)"
   ]
  },
  {
   "cell_type": "code",
   "execution_count": null,
   "metadata": {},
   "outputs": [],
   "source": []
  },
  {
   "cell_type": "code",
   "execution_count": null,
   "metadata": {},
   "outputs": [],
   "source": [
    "train_copy_1.shape"
   ]
  },
  {
   "cell_type": "code",
   "execution_count": null,
   "metadata": {},
   "outputs": [],
   "source": [
    "test_copy_1.shape"
   ]
  },
  {
   "cell_type": "code",
   "execution_count": null,
   "metadata": {},
   "outputs": [],
   "source": [
    "train_copy_1.head()"
   ]
  },
  {
   "cell_type": "code",
   "execution_count": null,
   "metadata": {},
   "outputs": [],
   "source": [
    "test_copy_1.head()"
   ]
  },
  {
   "cell_type": "code",
   "execution_count": null,
   "metadata": {},
   "outputs": [],
   "source": [
    "test_copy_1.shape"
   ]
  },
  {
   "cell_type": "code",
   "execution_count": null,
   "metadata": {},
   "outputs": [],
   "source": [
    "# test_copy_1.dropna(inplace=True)\n",
    "test_copy_1.isnull().sum()"
   ]
  },
  {
   "cell_type": "code",
   "execution_count": null,
   "metadata": {},
   "outputs": [],
   "source": [
    "print('Column  |   Nulls')\n",
    "for column in list(test_copy_1.columns):\n",
    "    if test_copy_1[column].isnull().sum() > 0:\n",
    "        print(column,  '|',  test_copy_1[column].isnull().sum())"
   ]
  },
  {
   "cell_type": "code",
   "execution_count": null,
   "metadata": {},
   "outputs": [],
   "source": [
    "# Need to deal with these nulls in the test data\n",
    "test_copy_1.fillna(test_copy_1.mean(), inplace=True)\n",
    "\n",
    "#Rerun above script to check\n",
    "print('Column  |   Nulls')\n",
    "for column in list(test_copy_1.columns):\n",
    "    if test_copy_1[column].isnull().sum() > 0:\n",
    "        print(column,  '|',  test_copy_1[column].isnull().sum())"
   ]
  },
  {
   "cell_type": "code",
   "execution_count": null,
   "metadata": {},
   "outputs": [],
   "source": []
  },
  {
   "cell_type": "code",
   "execution_count": null,
   "metadata": {},
   "outputs": [],
   "source": [
    "from sklearn.linear_model import LogisticRegression"
   ]
  },
  {
   "cell_type": "code",
   "execution_count": null,
   "metadata": {},
   "outputs": [],
   "source": [
    "LRM = LogisticRegression()"
   ]
  },
  {
   "cell_type": "code",
   "execution_count": null,
   "metadata": {},
   "outputs": [],
   "source": [
    "print(len(train_copy_1))\n",
    "print(len(labels))"
   ]
  },
  {
   "cell_type": "code",
   "execution_count": null,
   "metadata": {},
   "outputs": [],
   "source": [
    "LRM.fit(train_copy_1, labels)"
   ]
  },
  {
   "cell_type": "code",
   "execution_count": null,
   "metadata": {},
   "outputs": [],
   "source": [
    "LRM_prediction = LRM.predict_proba(test_copy_1)[:, 1]"
   ]
  },
  {
   "cell_type": "code",
   "execution_count": null,
   "metadata": {},
   "outputs": [],
   "source": [
    "solution_1 = test_copy_1[['sk_id_curr']]\n",
    "solution_1['target'] = LRM_prediction\n",
    "\n",
    "solution_1.head()\n",
    "solution_1['target'].value_counts()"
   ]
  },
  {
   "cell_type": "code",
   "execution_count": null,
   "metadata": {},
   "outputs": [],
   "source": []
  },
  {
   "cell_type": "code",
   "execution_count": null,
   "metadata": {},
   "outputs": [],
   "source": []
  }
 ],
 "metadata": {
  "kernelspec": {
   "display_name": "Python 3",
   "language": "python",
   "name": "python3"
  },
  "language_info": {
   "codemirror_mode": {
    "name": "ipython",
    "version": 3
   },
   "file_extension": ".py",
   "mimetype": "text/x-python",
   "name": "python",
   "nbconvert_exporter": "python",
   "pygments_lexer": "ipython3",
   "version": "3.7.4"
  }
 },
 "nbformat": 4,
 "nbformat_minor": 4
}
