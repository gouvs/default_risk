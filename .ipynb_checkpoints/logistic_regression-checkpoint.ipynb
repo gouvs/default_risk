{
 "cells": [
  {
   "cell_type": "code",
   "execution_count": 1,
   "metadata": {},
   "outputs": [],
   "source": [
    "import numpy as np\n",
    "import pandas as pd"
   ]
  },
  {
   "cell_type": "markdown",
   "metadata": {},
   "source": [
    "### Import the data and turn the columns to lowercase to make them easier to work with"
   ]
  },
  {
   "cell_type": "code",
   "execution_count": 2,
   "metadata": {},
   "outputs": [],
   "source": [
    "train = pd.read_csv('data/application_train.csv')"
   ]
  },
  {
   "cell_type": "code",
   "execution_count": 3,
   "metadata": {},
   "outputs": [],
   "source": [
    "train.columns = map(str.lower, train.columns)"
   ]
  },
  {
   "cell_type": "code",
   "execution_count": 4,
   "metadata": {},
   "outputs": [],
   "source": [
    "test = pd.read_csv('data/application_test.csv')"
   ]
  },
  {
   "cell_type": "code",
   "execution_count": 5,
   "metadata": {},
   "outputs": [],
   "source": [
    "test.columns = map(str.lower, test.columns)"
   ]
  },
  {
   "cell_type": "markdown",
   "metadata": {},
   "source": [
    "### Create copies of the data to use for the first model"
   ]
  },
  {
   "cell_type": "code",
   "execution_count": 6,
   "metadata": {},
   "outputs": [],
   "source": [
    "train_1 = train.copy()\n",
    "test_1 = test.copy()"
   ]
  },
  {
   "cell_type": "code",
   "execution_count": 7,
   "metadata": {},
   "outputs": [
    {
     "data": {
      "text/plain": [
       "(307511, 122)"
      ]
     },
     "execution_count": 7,
     "metadata": {},
     "output_type": "execute_result"
    }
   ],
   "source": [
    "train_1.shape"
   ]
  },
  {
   "cell_type": "code",
   "execution_count": 8,
   "metadata": {},
   "outputs": [
    {
     "data": {
      "text/plain": [
       "307511"
      ]
     },
     "execution_count": 8,
     "metadata": {},
     "output_type": "execute_result"
    }
   ],
   "source": [
    "len(train_1)"
   ]
  },
  {
   "cell_type": "markdown",
   "metadata": {},
   "source": [
    "### Getting rid of the extra categorical values that aren't in both datasets\n",
    "                          (see EDA workbook)"
   ]
  },
  {
   "cell_type": "markdown",
   "metadata": {},
   "source": [
    "#### First, find the indexes"
   ]
  },
  {
   "cell_type": "code",
   "execution_count": 9,
   "metadata": {},
   "outputs": [
    {
     "name": "stdout",
     "output_type": "stream",
     "text": [
      "Train indexes: [35657, 38566, 83382, 189640, 48949, 109612, 218269, 291432, 295458, 41982, 187348]\n",
      "Test indexes (length): 9275 rows\n"
     ]
    }
   ],
   "source": [
    "delete_from_train_columns = ['code_gender', 'name_income_type', 'name_family_status']\n",
    "train_values_to_delete = ['XNA', 'Maternity leave', 'Unknown']\n",
    "\n",
    "train_indexes_to_delete = []\n",
    "for i, e in zip(delete_from_train_columns, train_values_to_delete):\n",
    "    bad_train_data = train_1[i] == e\n",
    "    train_indexes_to_delete.extend(train_1.index[bad_train_data].tolist())\n",
    "print((f'Train indexes: {train_indexes_to_delete}'))\n",
    "\n",
    "\n",
    "\n",
    "delete_from_test_columns = ['name_income_type', 'organization_type']\n",
    "test_values_to_delete = ['Unemployed', 'XNA']\n",
    "\n",
    "test_indexes_to_delete = []\n",
    "for i, e in zip(delete_from_test_columns, test_values_to_delete):\n",
    "    bad_test_data = test_1[i] == e\n",
    "    test_indexes_to_delete.extend(test_1.index[bad_test_data].tolist())\n",
    "print((f'Test indexes (length): {len(test_indexes_to_delete)} rows'))\n",
    "\n",
    "# Dropped from test: name_income_type_Unemployed\n",
    "# Dropped from test: organization_type_XNA"
   ]
  },
  {
   "cell_type": "code",
   "execution_count": 10,
   "metadata": {},
   "outputs": [],
   "source": [
    "# test_1['name_income_type']"
   ]
  },
  {
   "cell_type": "markdown",
   "metadata": {},
   "source": [
    "#### Check that we have the right rows\n",
    "**Note 'XNA', 'Maternity leave', and 'Unknown' in train data**"
   ]
  },
  {
   "cell_type": "code",
   "execution_count": 11,
   "metadata": {},
   "outputs": [
    {
     "data": {
      "text/html": [
       "<div>\n",
       "<style scoped>\n",
       "    .dataframe tbody tr th:only-of-type {\n",
       "        vertical-align: middle;\n",
       "    }\n",
       "\n",
       "    .dataframe tbody tr th {\n",
       "        vertical-align: top;\n",
       "    }\n",
       "\n",
       "    .dataframe thead th {\n",
       "        text-align: right;\n",
       "    }\n",
       "</style>\n",
       "<table border=\"1\" class=\"dataframe\">\n",
       "  <thead>\n",
       "    <tr style=\"text-align: right;\">\n",
       "      <th></th>\n",
       "      <th>code_gender</th>\n",
       "      <th>name_income_type</th>\n",
       "      <th>name_family_status</th>\n",
       "    </tr>\n",
       "  </thead>\n",
       "  <tbody>\n",
       "    <tr>\n",
       "      <td>35657</td>\n",
       "      <td>XNA</td>\n",
       "      <td>Working</td>\n",
       "      <td>Married</td>\n",
       "    </tr>\n",
       "    <tr>\n",
       "      <td>38566</td>\n",
       "      <td>XNA</td>\n",
       "      <td>Working</td>\n",
       "      <td>Married</td>\n",
       "    </tr>\n",
       "    <tr>\n",
       "      <td>83382</td>\n",
       "      <td>XNA</td>\n",
       "      <td>Working</td>\n",
       "      <td>Married</td>\n",
       "    </tr>\n",
       "    <tr>\n",
       "      <td>189640</td>\n",
       "      <td>XNA</td>\n",
       "      <td>Commercial associate</td>\n",
       "      <td>Civil marriage</td>\n",
       "    </tr>\n",
       "    <tr>\n",
       "      <td>48949</td>\n",
       "      <td>M</td>\n",
       "      <td>Maternity leave</td>\n",
       "      <td>Married</td>\n",
       "    </tr>\n",
       "    <tr>\n",
       "      <td>109612</td>\n",
       "      <td>F</td>\n",
       "      <td>Maternity leave</td>\n",
       "      <td>Married</td>\n",
       "    </tr>\n",
       "    <tr>\n",
       "      <td>218269</td>\n",
       "      <td>F</td>\n",
       "      <td>Maternity leave</td>\n",
       "      <td>Married</td>\n",
       "    </tr>\n",
       "    <tr>\n",
       "      <td>291432</td>\n",
       "      <td>F</td>\n",
       "      <td>Maternity leave</td>\n",
       "      <td>Married</td>\n",
       "    </tr>\n",
       "    <tr>\n",
       "      <td>295458</td>\n",
       "      <td>F</td>\n",
       "      <td>Maternity leave</td>\n",
       "      <td>Married</td>\n",
       "    </tr>\n",
       "    <tr>\n",
       "      <td>41982</td>\n",
       "      <td>M</td>\n",
       "      <td>Commercial associate</td>\n",
       "      <td>Unknown</td>\n",
       "    </tr>\n",
       "    <tr>\n",
       "      <td>187348</td>\n",
       "      <td>F</td>\n",
       "      <td>Commercial associate</td>\n",
       "      <td>Unknown</td>\n",
       "    </tr>\n",
       "  </tbody>\n",
       "</table>\n",
       "</div>"
      ],
      "text/plain": [
       "       code_gender      name_income_type name_family_status\n",
       "35657          XNA               Working            Married\n",
       "38566          XNA               Working            Married\n",
       "83382          XNA               Working            Married\n",
       "189640         XNA  Commercial associate     Civil marriage\n",
       "48949            M       Maternity leave            Married\n",
       "109612           F       Maternity leave            Married\n",
       "218269           F       Maternity leave            Married\n",
       "291432           F       Maternity leave            Married\n",
       "295458           F       Maternity leave            Married\n",
       "41982            M  Commercial associate            Unknown\n",
       "187348           F  Commercial associate            Unknown"
      ]
     },
     "execution_count": 11,
     "metadata": {},
     "output_type": "execute_result"
    }
   ],
   "source": [
    "train_1.iloc[train_indexes_to_delete].loc[:,['code_gender', 'name_income_type', 'name_family_status']]\n",
    "\n"
   ]
  },
  {
   "cell_type": "code",
   "execution_count": 12,
   "metadata": {},
   "outputs": [],
   "source": [
    "train_1.drop(train_indexes_to_delete, inplace=True)"
   ]
  },
  {
   "cell_type": "markdown",
   "metadata": {},
   "source": [
    "#### Note 'XNA' and 'Unknown' in test data\n",
    "#### However, since there are 9,274 rows with XNA in the organization type column, let's delete just that data later after using get_dummies, so we can preserve the rest of those data in those rows. "
   ]
  },
  {
   "cell_type": "code",
   "execution_count": 13,
   "metadata": {},
   "outputs": [
    {
     "data": {
      "text/plain": [
       "Working                 24533\n",
       "Commercial associate    11402\n",
       "Pensioner                9273\n",
       "State servant            3532\n",
       "Student                     2\n",
       "Businessman                 1\n",
       "Unemployed                  1\n",
       "Name: name_income_type, dtype: int64"
      ]
     },
     "execution_count": 13,
     "metadata": {},
     "output_type": "execute_result"
    }
   ],
   "source": [
    "test_1.iloc[test_indexes_to_delete].loc[:,['name_income_type']]\n",
    "test_1['name_income_type'].value_counts()\n"
   ]
  },
  {
   "cell_type": "code",
   "execution_count": 14,
   "metadata": {},
   "outputs": [
    {
     "data": {
      "text/plain": [
       "Business Entity Type 3    10840\n",
       "XNA                        9274\n",
       "Self-employed              5920\n",
       "Other                      2707\n",
       "Medicine                   1716\n",
       "Government                 1508\n",
       "Business Entity Type 2     1479\n",
       "Trade: type 7              1303\n",
       "School                     1287\n",
       "Construction               1039\n",
       "Kindergarten               1038\n",
       "Business Entity Type 1      887\n",
       "Transport: type 4           884\n",
       "Trade: type 3               578\n",
       "Military                    530\n",
       "Industry: type 9            499\n",
       "Industry: type 3            489\n",
       "Security                    472\n",
       "Transport: type 2           448\n",
       "Police                      441\n",
       "Housing                     435\n",
       "Industry: type 11           416\n",
       "Bank                        374\n",
       "Security Ministries         341\n",
       "Services                    302\n",
       "Postal                      294\n",
       "Agriculture                 292\n",
       "Restaurant                  284\n",
       "Trade: type 2               242\n",
       "University                  221\n",
       "Industry: type 7            217\n",
       "Industry: type 1            178\n",
       "Transport: type 3           174\n",
       "Industry: type 4            167\n",
       "Electricity                 156\n",
       "Hotel                       134\n",
       "Trade: type 6               122\n",
       "Industry: type 5             97\n",
       "Telecom                      95\n",
       "Emergency                    91\n",
       "Insurance                    80\n",
       "Industry: type 2             77\n",
       "Industry: type 12            77\n",
       "Realtor                      72\n",
       "Advertising                  71\n",
       "Trade: type 1                64\n",
       "Culture                      61\n",
       "Legal Services               53\n",
       "Mobile                       45\n",
       "Cleaning                     43\n",
       "Transport: type 1            35\n",
       "Industry: type 6             27\n",
       "Industry: type 10            24\n",
       "Trade: type 4                14\n",
       "Religion                     12\n",
       "Trade: type 5                 9\n",
       "Industry: type 13             6\n",
       "Industry: type 8              3\n",
       "Name: organization_type, dtype: int64"
      ]
     },
     "execution_count": 14,
     "metadata": {},
     "output_type": "execute_result"
    }
   ],
   "source": [
    "test_1.iloc[test_indexes_to_delete].loc[:,['organization_type']]\n",
    "test_1['organization_type'].value_counts()\n"
   ]
  },
  {
   "cell_type": "code",
   "execution_count": 15,
   "metadata": {},
   "outputs": [],
   "source": [
    "# test_1.drop(test_indexes_to_delete, inplace=True)"
   ]
  },
  {
   "cell_type": "markdown",
   "metadata": {},
   "source": [
    "### Getting rid of all the rows that have more than 50% null values"
   ]
  },
  {
   "cell_type": "code",
   "execution_count": 16,
   "metadata": {},
   "outputs": [],
   "source": [
    "null_threshold = 0.5\n",
    "\n",
    "column_list = train_1.isnull().sum(axis = 0) / train_1.count(axis = 0)\n",
    "\n",
    "train_1 = train_1.loc[:,list(column_list.apply(lambda x: x < null_threshold))]\n",
    "\n",
    "#column_list.apply(lambda x: x < 0.5).head(50)"
   ]
  },
  {
   "cell_type": "markdown",
   "metadata": {},
   "source": [
    "### Dropping null values from the columns with categorical data"
   ]
  },
  {
   "cell_type": "code",
   "execution_count": 17,
   "metadata": {},
   "outputs": [],
   "source": [
    "object_columns = [column for column in train_1.columns if train_1[column].dtype=='object']\n",
    "\n",
    "# train_copy_1 = train_copy_1.loc[train_copy_1[object_columns].notnull()]\n",
    "\n",
    "train_1.dropna(subset=object_columns, inplace=True)\n",
    "# train_copy_1['amt_req_credit_bureau_hour'].value_counts()"
   ]
  },
  {
   "cell_type": "code",
   "execution_count": 18,
   "metadata": {},
   "outputs": [
    {
     "data": {
      "text/plain": [
       "(210207, 73)"
      ]
     },
     "execution_count": 18,
     "metadata": {},
     "output_type": "execute_result"
    }
   ],
   "source": [
    "train_1.shape"
   ]
  },
  {
   "cell_type": "code",
   "execution_count": 19,
   "metadata": {},
   "outputs": [
    {
     "data": {
      "text/plain": [
       "(48744, 121)"
      ]
     },
     "execution_count": 19,
     "metadata": {},
     "output_type": "execute_result"
    }
   ],
   "source": [
    "test_1.shape"
   ]
  },
  {
   "cell_type": "code",
   "execution_count": 20,
   "metadata": {},
   "outputs": [],
   "source": [
    "# Create a list of the target values to use as labels\n",
    "labels = train_1['target'].values"
   ]
  },
  {
   "cell_type": "code",
   "execution_count": 21,
   "metadata": {},
   "outputs": [
    {
     "data": {
      "text/plain": [
       "210207"
      ]
     },
     "execution_count": 21,
     "metadata": {},
     "output_type": "execute_result"
    }
   ],
   "source": [
    "len(labels)"
   ]
  },
  {
   "cell_type": "code",
   "execution_count": 22,
   "metadata": {},
   "outputs": [],
   "source": [
    "# Need to make the columns the same in the training and testing datasets\n",
    "train_columns = list(train_1.columns)\n",
    "test_columns = list(test_1.columns)"
   ]
  },
  {
   "cell_type": "code",
   "execution_count": 23,
   "metadata": {},
   "outputs": [
    {
     "name": "stdout",
     "output_type": "stream",
     "text": [
      "Dropped from train: target\n",
      "Dropped from test: own_car_age\n",
      "Dropped from test: ext_source_1\n",
      "Dropped from test: apartments_avg\n",
      "Dropped from test: basementarea_avg\n",
      "Dropped from test: years_beginexpluatation_avg\n",
      "Dropped from test: years_build_avg\n",
      "Dropped from test: commonarea_avg\n",
      "Dropped from test: elevators_avg\n",
      "Dropped from test: entrances_avg\n",
      "Dropped from test: floorsmax_avg\n",
      "Dropped from test: floorsmin_avg\n",
      "Dropped from test: landarea_avg\n",
      "Dropped from test: livingapartments_avg\n",
      "Dropped from test: livingarea_avg\n",
      "Dropped from test: nonlivingapartments_avg\n",
      "Dropped from test: nonlivingarea_avg\n",
      "Dropped from test: apartments_mode\n",
      "Dropped from test: basementarea_mode\n",
      "Dropped from test: years_beginexpluatation_mode\n",
      "Dropped from test: years_build_mode\n",
      "Dropped from test: commonarea_mode\n",
      "Dropped from test: elevators_mode\n",
      "Dropped from test: entrances_mode\n",
      "Dropped from test: floorsmax_mode\n",
      "Dropped from test: floorsmin_mode\n",
      "Dropped from test: landarea_mode\n",
      "Dropped from test: livingapartments_mode\n",
      "Dropped from test: livingarea_mode\n",
      "Dropped from test: nonlivingapartments_mode\n",
      "Dropped from test: nonlivingarea_mode\n",
      "Dropped from test: apartments_medi\n",
      "Dropped from test: basementarea_medi\n",
      "Dropped from test: years_beginexpluatation_medi\n",
      "Dropped from test: years_build_medi\n",
      "Dropped from test: commonarea_medi\n",
      "Dropped from test: elevators_medi\n",
      "Dropped from test: entrances_medi\n",
      "Dropped from test: floorsmax_medi\n",
      "Dropped from test: floorsmin_medi\n",
      "Dropped from test: landarea_medi\n",
      "Dropped from test: livingapartments_medi\n",
      "Dropped from test: livingarea_medi\n",
      "Dropped from test: nonlivingapartments_medi\n",
      "Dropped from test: nonlivingarea_medi\n",
      "Dropped from test: fondkapremont_mode\n",
      "Dropped from test: housetype_mode\n",
      "Dropped from test: totalarea_mode\n",
      "Dropped from test: wallsmaterial_mode\n",
      "Dropped from test: emergencystate_mode\n"
     ]
    }
   ],
   "source": [
    "for column in train_columns:\n",
    "    if column not in test_columns:\n",
    "#         if column == 'target':\n",
    "#             pass\n",
    "#         else:\n",
    "        print(f'Dropped from train: {column}')\n",
    "        train_1.drop(column, axis=1, inplace=True)\n",
    "        \n",
    "for column in test_columns:\n",
    "    if column not in train_columns:\n",
    "        print(f'Dropped from test: {column}')\n",
    "        test_1.drop(column, axis=1, inplace=True)"
   ]
  },
  {
   "cell_type": "code",
   "execution_count": 24,
   "metadata": {},
   "outputs": [
    {
     "data": {
      "text/plain": [
       "72"
      ]
     },
     "execution_count": 24,
     "metadata": {},
     "output_type": "execute_result"
    }
   ],
   "source": [
    "features = list(train_1.columns)\n",
    "len(features)"
   ]
  },
  {
   "cell_type": "markdown",
   "metadata": {},
   "source": [
    "### Use get_dummies to turn categorical variables into binary columns"
   ]
  },
  {
   "cell_type": "code",
   "execution_count": 25,
   "metadata": {},
   "outputs": [
    {
     "data": {
      "text/plain": [
       "(210207, 72)"
      ]
     },
     "execution_count": 25,
     "metadata": {},
     "output_type": "execute_result"
    }
   ],
   "source": [
    "train_1.shape"
   ]
  },
  {
   "cell_type": "code",
   "execution_count": 26,
   "metadata": {},
   "outputs": [
    {
     "data": {
      "text/plain": [
       "(48744, 72)"
      ]
     },
     "execution_count": 26,
     "metadata": {},
     "output_type": "execute_result"
    }
   ],
   "source": [
    "test_1.shape"
   ]
  },
  {
   "cell_type": "code",
   "execution_count": 27,
   "metadata": {},
   "outputs": [],
   "source": [
    "train_1 = pd.get_dummies(train_1)"
   ]
  },
  {
   "cell_type": "code",
   "execution_count": 28,
   "metadata": {},
   "outputs": [],
   "source": [
    "test_1 = pd.get_dummies(test_1)"
   ]
  },
  {
   "cell_type": "code",
   "execution_count": 29,
   "metadata": {},
   "outputs": [
    {
     "data": {
      "text/plain": [
       "(210207, 179)"
      ]
     },
     "execution_count": 29,
     "metadata": {},
     "output_type": "execute_result"
    }
   ],
   "source": [
    "train_1.shape"
   ]
  },
  {
   "cell_type": "code",
   "execution_count": 30,
   "metadata": {},
   "outputs": [
    {
     "data": {
      "text/plain": [
       "(48744, 181)"
      ]
     },
     "execution_count": 30,
     "metadata": {},
     "output_type": "execute_result"
    }
   ],
   "source": [
    "test_1.shape"
   ]
  },
  {
   "cell_type": "markdown",
   "metadata": {},
   "source": [
    "### There are now a couple extra columns in test because it had categorical variables that train didn't have.\n",
    "**These should be the variables in organization type and income type that we decided not to delete the rows of before**"
   ]
  },
  {
   "cell_type": "code",
   "execution_count": 31,
   "metadata": {},
   "outputs": [
    {
     "name": "stdout",
     "output_type": "stream",
     "text": [
      "Dropped from test: name_income_type_Unemployed\n",
      "Dropped from test: organization_type_XNA\n"
     ]
    }
   ],
   "source": [
    "train_columns2 = list(train_1.columns)\n",
    "test_columns2 = list(test_1.columns)\n",
    "for column in train_columns2:\n",
    "    if column not in test_columns2:\n",
    "#         if column == 'target':\n",
    "#             pass\n",
    "#         else:\n",
    "        print(f'Dropped from train: {column}')\n",
    "        train_1.drop(column, axis=1, inplace=True)\n",
    "        \n",
    "for column in test_columns2:\n",
    "    if column not in train_columns2:\n",
    "        print(f'Dropped from test: {column}')\n",
    "        test_1.drop(column, axis=1, inplace=True)"
   ]
  },
  {
   "cell_type": "markdown",
   "metadata": {},
   "source": [
    "#### Now they're the same size"
   ]
  },
  {
   "cell_type": "code",
   "execution_count": 32,
   "metadata": {},
   "outputs": [
    {
     "data": {
      "text/plain": [
       "(210207, 179)"
      ]
     },
     "execution_count": 32,
     "metadata": {},
     "output_type": "execute_result"
    }
   ],
   "source": [
    "train_1.shape"
   ]
  },
  {
   "cell_type": "code",
   "execution_count": 33,
   "metadata": {},
   "outputs": [
    {
     "data": {
      "text/plain": [
       "(48744, 179)"
      ]
     },
     "execution_count": 33,
     "metadata": {},
     "output_type": "execute_result"
    }
   ],
   "source": [
    "test_1.shape"
   ]
  },
  {
   "cell_type": "markdown",
   "metadata": {},
   "source": [
    "### Use imputer to replace remaining nulls in numerical data with the mean of their respective columns"
   ]
  },
  {
   "cell_type": "code",
   "execution_count": 34,
   "metadata": {},
   "outputs": [],
   "source": [
    "train_columns_3 = list(train_1.columns)\n",
    "test_columns_3 = list(test_1.columns)\n",
    "from sklearn.impute import SimpleImputer\n",
    "imputer = SimpleImputer(missing_values=np.nan, strategy='mean')\n",
    "\n",
    "imputer.fit(train_1)\n",
    "train_1 = pd.DataFrame(imputer.transform(train_1))\n",
    "train_1.columns = train_columns_3\n",
    "\n",
    "imputer.fit(test_1)\n",
    "test_1 = pd.DataFrame(imputer.transform(test_1))\n",
    "test_1.columns = test_columns_3"
   ]
  },
  {
   "cell_type": "code",
   "execution_count": 35,
   "metadata": {},
   "outputs": [
    {
     "data": {
      "text/html": [
       "<div>\n",
       "<style scoped>\n",
       "    .dataframe tbody tr th:only-of-type {\n",
       "        vertical-align: middle;\n",
       "    }\n",
       "\n",
       "    .dataframe tbody tr th {\n",
       "        vertical-align: top;\n",
       "    }\n",
       "\n",
       "    .dataframe thead th {\n",
       "        text-align: right;\n",
       "    }\n",
       "</style>\n",
       "<table border=\"1\" class=\"dataframe\">\n",
       "  <thead>\n",
       "    <tr style=\"text-align: right;\">\n",
       "      <th></th>\n",
       "      <th>sk_id_curr</th>\n",
       "      <th>cnt_children</th>\n",
       "      <th>amt_income_total</th>\n",
       "      <th>amt_credit</th>\n",
       "      <th>amt_annuity</th>\n",
       "      <th>amt_goods_price</th>\n",
       "      <th>region_population_relative</th>\n",
       "      <th>days_birth</th>\n",
       "      <th>days_employed</th>\n",
       "      <th>days_registration</th>\n",
       "      <th>...</th>\n",
       "      <th>organization_type_Trade: type 3</th>\n",
       "      <th>organization_type_Trade: type 4</th>\n",
       "      <th>organization_type_Trade: type 5</th>\n",
       "      <th>organization_type_Trade: type 6</th>\n",
       "      <th>organization_type_Trade: type 7</th>\n",
       "      <th>organization_type_Transport: type 1</th>\n",
       "      <th>organization_type_Transport: type 2</th>\n",
       "      <th>organization_type_Transport: type 3</th>\n",
       "      <th>organization_type_Transport: type 4</th>\n",
       "      <th>organization_type_University</th>\n",
       "    </tr>\n",
       "  </thead>\n",
       "  <tbody>\n",
       "    <tr>\n",
       "      <td>0</td>\n",
       "      <td>100002.0</td>\n",
       "      <td>0.0</td>\n",
       "      <td>202500.0</td>\n",
       "      <td>406597.5</td>\n",
       "      <td>24700.5</td>\n",
       "      <td>351000.0</td>\n",
       "      <td>0.018801</td>\n",
       "      <td>-9461.0</td>\n",
       "      <td>-637.0</td>\n",
       "      <td>-3648.0</td>\n",
       "      <td>...</td>\n",
       "      <td>0.0</td>\n",
       "      <td>0.0</td>\n",
       "      <td>0.0</td>\n",
       "      <td>0.0</td>\n",
       "      <td>0.0</td>\n",
       "      <td>0.0</td>\n",
       "      <td>0.0</td>\n",
       "      <td>0.0</td>\n",
       "      <td>0.0</td>\n",
       "      <td>0.0</td>\n",
       "    </tr>\n",
       "    <tr>\n",
       "      <td>1</td>\n",
       "      <td>100003.0</td>\n",
       "      <td>0.0</td>\n",
       "      <td>270000.0</td>\n",
       "      <td>1293502.5</td>\n",
       "      <td>35698.5</td>\n",
       "      <td>1129500.0</td>\n",
       "      <td>0.003541</td>\n",
       "      <td>-16765.0</td>\n",
       "      <td>-1188.0</td>\n",
       "      <td>-1186.0</td>\n",
       "      <td>...</td>\n",
       "      <td>0.0</td>\n",
       "      <td>0.0</td>\n",
       "      <td>0.0</td>\n",
       "      <td>0.0</td>\n",
       "      <td>0.0</td>\n",
       "      <td>0.0</td>\n",
       "      <td>0.0</td>\n",
       "      <td>0.0</td>\n",
       "      <td>0.0</td>\n",
       "      <td>0.0</td>\n",
       "    </tr>\n",
       "    <tr>\n",
       "      <td>2</td>\n",
       "      <td>100004.0</td>\n",
       "      <td>0.0</td>\n",
       "      <td>67500.0</td>\n",
       "      <td>135000.0</td>\n",
       "      <td>6750.0</td>\n",
       "      <td>135000.0</td>\n",
       "      <td>0.010032</td>\n",
       "      <td>-19046.0</td>\n",
       "      <td>-225.0</td>\n",
       "      <td>-4260.0</td>\n",
       "      <td>...</td>\n",
       "      <td>0.0</td>\n",
       "      <td>0.0</td>\n",
       "      <td>0.0</td>\n",
       "      <td>0.0</td>\n",
       "      <td>0.0</td>\n",
       "      <td>0.0</td>\n",
       "      <td>0.0</td>\n",
       "      <td>0.0</td>\n",
       "      <td>0.0</td>\n",
       "      <td>0.0</td>\n",
       "    </tr>\n",
       "    <tr>\n",
       "      <td>3</td>\n",
       "      <td>100006.0</td>\n",
       "      <td>0.0</td>\n",
       "      <td>135000.0</td>\n",
       "      <td>312682.5</td>\n",
       "      <td>29686.5</td>\n",
       "      <td>297000.0</td>\n",
       "      <td>0.008019</td>\n",
       "      <td>-19005.0</td>\n",
       "      <td>-3039.0</td>\n",
       "      <td>-9833.0</td>\n",
       "      <td>...</td>\n",
       "      <td>0.0</td>\n",
       "      <td>0.0</td>\n",
       "      <td>0.0</td>\n",
       "      <td>0.0</td>\n",
       "      <td>0.0</td>\n",
       "      <td>0.0</td>\n",
       "      <td>0.0</td>\n",
       "      <td>0.0</td>\n",
       "      <td>0.0</td>\n",
       "      <td>0.0</td>\n",
       "    </tr>\n",
       "    <tr>\n",
       "      <td>4</td>\n",
       "      <td>100007.0</td>\n",
       "      <td>0.0</td>\n",
       "      <td>121500.0</td>\n",
       "      <td>513000.0</td>\n",
       "      <td>21865.5</td>\n",
       "      <td>513000.0</td>\n",
       "      <td>0.028663</td>\n",
       "      <td>-19932.0</td>\n",
       "      <td>-3038.0</td>\n",
       "      <td>-4311.0</td>\n",
       "      <td>...</td>\n",
       "      <td>0.0</td>\n",
       "      <td>0.0</td>\n",
       "      <td>0.0</td>\n",
       "      <td>0.0</td>\n",
       "      <td>0.0</td>\n",
       "      <td>0.0</td>\n",
       "      <td>0.0</td>\n",
       "      <td>0.0</td>\n",
       "      <td>0.0</td>\n",
       "      <td>0.0</td>\n",
       "    </tr>\n",
       "  </tbody>\n",
       "</table>\n",
       "<p>5 rows × 179 columns</p>\n",
       "</div>"
      ],
      "text/plain": [
       "   sk_id_curr  cnt_children  amt_income_total  amt_credit  amt_annuity  \\\n",
       "0    100002.0           0.0          202500.0    406597.5      24700.5   \n",
       "1    100003.0           0.0          270000.0   1293502.5      35698.5   \n",
       "2    100004.0           0.0           67500.0    135000.0       6750.0   \n",
       "3    100006.0           0.0          135000.0    312682.5      29686.5   \n",
       "4    100007.0           0.0          121500.0    513000.0      21865.5   \n",
       "\n",
       "   amt_goods_price  region_population_relative  days_birth  days_employed  \\\n",
       "0         351000.0                    0.018801     -9461.0         -637.0   \n",
       "1        1129500.0                    0.003541    -16765.0        -1188.0   \n",
       "2         135000.0                    0.010032    -19046.0         -225.0   \n",
       "3         297000.0                    0.008019    -19005.0        -3039.0   \n",
       "4         513000.0                    0.028663    -19932.0        -3038.0   \n",
       "\n",
       "   days_registration  ...  organization_type_Trade: type 3  \\\n",
       "0            -3648.0  ...                              0.0   \n",
       "1            -1186.0  ...                              0.0   \n",
       "2            -4260.0  ...                              0.0   \n",
       "3            -9833.0  ...                              0.0   \n",
       "4            -4311.0  ...                              0.0   \n",
       "\n",
       "   organization_type_Trade: type 4  organization_type_Trade: type 5  \\\n",
       "0                              0.0                              0.0   \n",
       "1                              0.0                              0.0   \n",
       "2                              0.0                              0.0   \n",
       "3                              0.0                              0.0   \n",
       "4                              0.0                              0.0   \n",
       "\n",
       "   organization_type_Trade: type 6  organization_type_Trade: type 7  \\\n",
       "0                              0.0                              0.0   \n",
       "1                              0.0                              0.0   \n",
       "2                              0.0                              0.0   \n",
       "3                              0.0                              0.0   \n",
       "4                              0.0                              0.0   \n",
       "\n",
       "   organization_type_Transport: type 1  organization_type_Transport: type 2  \\\n",
       "0                                  0.0                                  0.0   \n",
       "1                                  0.0                                  0.0   \n",
       "2                                  0.0                                  0.0   \n",
       "3                                  0.0                                  0.0   \n",
       "4                                  0.0                                  0.0   \n",
       "\n",
       "   organization_type_Transport: type 3  organization_type_Transport: type 4  \\\n",
       "0                                  0.0                                  0.0   \n",
       "1                                  0.0                                  0.0   \n",
       "2                                  0.0                                  0.0   \n",
       "3                                  0.0                                  0.0   \n",
       "4                                  0.0                                  0.0   \n",
       "\n",
       "   organization_type_University  \n",
       "0                           0.0  \n",
       "1                           0.0  \n",
       "2                           0.0  \n",
       "3                           0.0  \n",
       "4                           0.0  \n",
       "\n",
       "[5 rows x 179 columns]"
      ]
     },
     "execution_count": 35,
     "metadata": {},
     "output_type": "execute_result"
    }
   ],
   "source": [
    "train_1.head()"
   ]
  },
  {
   "cell_type": "code",
   "execution_count": 36,
   "metadata": {},
   "outputs": [
    {
     "name": "stdout",
     "output_type": "stream",
     "text": [
      "Column  |   Nulls\n"
     ]
    }
   ],
   "source": [
    "# Double check if any nulls in train data\n",
    "print('Column  |   Nulls')\n",
    "for column in list(train_1.columns):\n",
    "    if train_1[column].isnull().sum() > 0:\n",
    "        print(column,  '|',  train_1[column].isnull().sum())"
   ]
  },
  {
   "cell_type": "code",
   "execution_count": 37,
   "metadata": {},
   "outputs": [
    {
     "data": {
      "text/html": [
       "<div>\n",
       "<style scoped>\n",
       "    .dataframe tbody tr th:only-of-type {\n",
       "        vertical-align: middle;\n",
       "    }\n",
       "\n",
       "    .dataframe tbody tr th {\n",
       "        vertical-align: top;\n",
       "    }\n",
       "\n",
       "    .dataframe thead th {\n",
       "        text-align: right;\n",
       "    }\n",
       "</style>\n",
       "<table border=\"1\" class=\"dataframe\">\n",
       "  <thead>\n",
       "    <tr style=\"text-align: right;\">\n",
       "      <th></th>\n",
       "      <th>sk_id_curr</th>\n",
       "      <th>cnt_children</th>\n",
       "      <th>amt_income_total</th>\n",
       "      <th>amt_credit</th>\n",
       "      <th>amt_annuity</th>\n",
       "      <th>amt_goods_price</th>\n",
       "      <th>region_population_relative</th>\n",
       "      <th>days_birth</th>\n",
       "      <th>days_employed</th>\n",
       "      <th>days_registration</th>\n",
       "      <th>...</th>\n",
       "      <th>organization_type_Trade: type 3</th>\n",
       "      <th>organization_type_Trade: type 4</th>\n",
       "      <th>organization_type_Trade: type 5</th>\n",
       "      <th>organization_type_Trade: type 6</th>\n",
       "      <th>organization_type_Trade: type 7</th>\n",
       "      <th>organization_type_Transport: type 1</th>\n",
       "      <th>organization_type_Transport: type 2</th>\n",
       "      <th>organization_type_Transport: type 3</th>\n",
       "      <th>organization_type_Transport: type 4</th>\n",
       "      <th>organization_type_University</th>\n",
       "    </tr>\n",
       "  </thead>\n",
       "  <tbody>\n",
       "    <tr>\n",
       "      <td>0</td>\n",
       "      <td>100002.0</td>\n",
       "      <td>0.0</td>\n",
       "      <td>202500.0</td>\n",
       "      <td>406597.5</td>\n",
       "      <td>24700.5</td>\n",
       "      <td>351000.0</td>\n",
       "      <td>0.018801</td>\n",
       "      <td>-9461.0</td>\n",
       "      <td>-637.0</td>\n",
       "      <td>-3648.0</td>\n",
       "      <td>...</td>\n",
       "      <td>0.0</td>\n",
       "      <td>0.0</td>\n",
       "      <td>0.0</td>\n",
       "      <td>0.0</td>\n",
       "      <td>0.0</td>\n",
       "      <td>0.0</td>\n",
       "      <td>0.0</td>\n",
       "      <td>0.0</td>\n",
       "      <td>0.0</td>\n",
       "      <td>0.0</td>\n",
       "    </tr>\n",
       "    <tr>\n",
       "      <td>1</td>\n",
       "      <td>100003.0</td>\n",
       "      <td>0.0</td>\n",
       "      <td>270000.0</td>\n",
       "      <td>1293502.5</td>\n",
       "      <td>35698.5</td>\n",
       "      <td>1129500.0</td>\n",
       "      <td>0.003541</td>\n",
       "      <td>-16765.0</td>\n",
       "      <td>-1188.0</td>\n",
       "      <td>-1186.0</td>\n",
       "      <td>...</td>\n",
       "      <td>0.0</td>\n",
       "      <td>0.0</td>\n",
       "      <td>0.0</td>\n",
       "      <td>0.0</td>\n",
       "      <td>0.0</td>\n",
       "      <td>0.0</td>\n",
       "      <td>0.0</td>\n",
       "      <td>0.0</td>\n",
       "      <td>0.0</td>\n",
       "      <td>0.0</td>\n",
       "    </tr>\n",
       "    <tr>\n",
       "      <td>2</td>\n",
       "      <td>100004.0</td>\n",
       "      <td>0.0</td>\n",
       "      <td>67500.0</td>\n",
       "      <td>135000.0</td>\n",
       "      <td>6750.0</td>\n",
       "      <td>135000.0</td>\n",
       "      <td>0.010032</td>\n",
       "      <td>-19046.0</td>\n",
       "      <td>-225.0</td>\n",
       "      <td>-4260.0</td>\n",
       "      <td>...</td>\n",
       "      <td>0.0</td>\n",
       "      <td>0.0</td>\n",
       "      <td>0.0</td>\n",
       "      <td>0.0</td>\n",
       "      <td>0.0</td>\n",
       "      <td>0.0</td>\n",
       "      <td>0.0</td>\n",
       "      <td>0.0</td>\n",
       "      <td>0.0</td>\n",
       "      <td>0.0</td>\n",
       "    </tr>\n",
       "    <tr>\n",
       "      <td>3</td>\n",
       "      <td>100006.0</td>\n",
       "      <td>0.0</td>\n",
       "      <td>135000.0</td>\n",
       "      <td>312682.5</td>\n",
       "      <td>29686.5</td>\n",
       "      <td>297000.0</td>\n",
       "      <td>0.008019</td>\n",
       "      <td>-19005.0</td>\n",
       "      <td>-3039.0</td>\n",
       "      <td>-9833.0</td>\n",
       "      <td>...</td>\n",
       "      <td>0.0</td>\n",
       "      <td>0.0</td>\n",
       "      <td>0.0</td>\n",
       "      <td>0.0</td>\n",
       "      <td>0.0</td>\n",
       "      <td>0.0</td>\n",
       "      <td>0.0</td>\n",
       "      <td>0.0</td>\n",
       "      <td>0.0</td>\n",
       "      <td>0.0</td>\n",
       "    </tr>\n",
       "    <tr>\n",
       "      <td>4</td>\n",
       "      <td>100007.0</td>\n",
       "      <td>0.0</td>\n",
       "      <td>121500.0</td>\n",
       "      <td>513000.0</td>\n",
       "      <td>21865.5</td>\n",
       "      <td>513000.0</td>\n",
       "      <td>0.028663</td>\n",
       "      <td>-19932.0</td>\n",
       "      <td>-3038.0</td>\n",
       "      <td>-4311.0</td>\n",
       "      <td>...</td>\n",
       "      <td>0.0</td>\n",
       "      <td>0.0</td>\n",
       "      <td>0.0</td>\n",
       "      <td>0.0</td>\n",
       "      <td>0.0</td>\n",
       "      <td>0.0</td>\n",
       "      <td>0.0</td>\n",
       "      <td>0.0</td>\n",
       "      <td>0.0</td>\n",
       "      <td>0.0</td>\n",
       "    </tr>\n",
       "  </tbody>\n",
       "</table>\n",
       "<p>5 rows × 179 columns</p>\n",
       "</div>"
      ],
      "text/plain": [
       "   sk_id_curr  cnt_children  amt_income_total  amt_credit  amt_annuity  \\\n",
       "0    100002.0           0.0          202500.0    406597.5      24700.5   \n",
       "1    100003.0           0.0          270000.0   1293502.5      35698.5   \n",
       "2    100004.0           0.0           67500.0    135000.0       6750.0   \n",
       "3    100006.0           0.0          135000.0    312682.5      29686.5   \n",
       "4    100007.0           0.0          121500.0    513000.0      21865.5   \n",
       "\n",
       "   amt_goods_price  region_population_relative  days_birth  days_employed  \\\n",
       "0         351000.0                    0.018801     -9461.0         -637.0   \n",
       "1        1129500.0                    0.003541    -16765.0        -1188.0   \n",
       "2         135000.0                    0.010032    -19046.0         -225.0   \n",
       "3         297000.0                    0.008019    -19005.0        -3039.0   \n",
       "4         513000.0                    0.028663    -19932.0        -3038.0   \n",
       "\n",
       "   days_registration  ...  organization_type_Trade: type 3  \\\n",
       "0            -3648.0  ...                              0.0   \n",
       "1            -1186.0  ...                              0.0   \n",
       "2            -4260.0  ...                              0.0   \n",
       "3            -9833.0  ...                              0.0   \n",
       "4            -4311.0  ...                              0.0   \n",
       "\n",
       "   organization_type_Trade: type 4  organization_type_Trade: type 5  \\\n",
       "0                              0.0                              0.0   \n",
       "1                              0.0                              0.0   \n",
       "2                              0.0                              0.0   \n",
       "3                              0.0                              0.0   \n",
       "4                              0.0                              0.0   \n",
       "\n",
       "   organization_type_Trade: type 6  organization_type_Trade: type 7  \\\n",
       "0                              0.0                              0.0   \n",
       "1                              0.0                              0.0   \n",
       "2                              0.0                              0.0   \n",
       "3                              0.0                              0.0   \n",
       "4                              0.0                              0.0   \n",
       "\n",
       "   organization_type_Transport: type 1  organization_type_Transport: type 2  \\\n",
       "0                                  0.0                                  0.0   \n",
       "1                                  0.0                                  0.0   \n",
       "2                                  0.0                                  0.0   \n",
       "3                                  0.0                                  0.0   \n",
       "4                                  0.0                                  0.0   \n",
       "\n",
       "   organization_type_Transport: type 3  organization_type_Transport: type 4  \\\n",
       "0                                  0.0                                  0.0   \n",
       "1                                  0.0                                  0.0   \n",
       "2                                  0.0                                  0.0   \n",
       "3                                  0.0                                  0.0   \n",
       "4                                  0.0                                  0.0   \n",
       "\n",
       "   organization_type_University  \n",
       "0                           0.0  \n",
       "1                           0.0  \n",
       "2                           0.0  \n",
       "3                           0.0  \n",
       "4                           0.0  \n",
       "\n",
       "[5 rows x 179 columns]"
      ]
     },
     "execution_count": 37,
     "metadata": {},
     "output_type": "execute_result"
    }
   ],
   "source": [
    "train_1.head()"
   ]
  },
  {
   "cell_type": "code",
   "execution_count": 38,
   "metadata": {},
   "outputs": [
    {
     "data": {
      "text/plain": [
       "float64    179\n",
       "dtype: int64"
      ]
     },
     "execution_count": 38,
     "metadata": {},
     "output_type": "execute_result"
    }
   ],
   "source": [
    "train_1.dtypes.value_counts()"
   ]
  },
  {
   "cell_type": "code",
   "execution_count": 39,
   "metadata": {},
   "outputs": [],
   "source": [
    "from sklearn.preprocessing import MinMaxScaler\n",
    "scaler = MinMaxScaler()"
   ]
  },
  {
   "cell_type": "code",
   "execution_count": 40,
   "metadata": {},
   "outputs": [
    {
     "data": {
      "text/plain": [
       "MinMaxScaler(copy=True, feature_range=(0, 1))"
      ]
     },
     "execution_count": 40,
     "metadata": {},
     "output_type": "execute_result"
    }
   ],
   "source": [
    "scaler.fit(train_1)"
   ]
  },
  {
   "cell_type": "code",
   "execution_count": 41,
   "metadata": {},
   "outputs": [
    {
     "data": {
      "text/plain": [
       "array([[-2.80699391e-06,  0.00000000e+00,  9.34820326e-04, ...,\n",
       "         0.00000000e+00,  0.00000000e+00,  0.00000000e+00],\n",
       "       [ 8.42098172e-06,  0.00000000e+00,  6.27060548e-04, ...,\n",
       "         0.00000000e+00,  0.00000000e+00,  0.00000000e+00],\n",
       "       [ 3.08769330e-05,  0.00000000e+00,  1.51186991e-03, ...,\n",
       "         1.00000000e+00,  0.00000000e+00,  0.00000000e+00],\n",
       "       ...,\n",
       "       [ 9.99910176e-01,  5.26315789e-02,  1.51186991e-03, ...,\n",
       "         0.00000000e+00,  0.00000000e+00,  0.00000000e+00],\n",
       "       [ 9.99912983e-01,  0.00000000e+00,  1.70421977e-03, ...,\n",
       "         0.00000000e+00,  0.00000000e+00,  0.00000000e+00],\n",
       "       [ 9.99985965e-01,  0.00000000e+00,  9.34820326e-04, ...,\n",
       "         0.00000000e+00,  0.00000000e+00,  0.00000000e+00]])"
      ]
     },
     "execution_count": 41,
     "metadata": {},
     "output_type": "execute_result"
    }
   ],
   "source": [
    "scaler.transform(train_1)\n",
    "scaler.transform(test_1)"
   ]
  },
  {
   "cell_type": "code",
   "execution_count": null,
   "metadata": {},
   "outputs": [],
   "source": []
  },
  {
   "cell_type": "code",
   "execution_count": 42,
   "metadata": {},
   "outputs": [
    {
     "data": {
      "text/plain": [
       "(210207, 179)"
      ]
     },
     "execution_count": 42,
     "metadata": {},
     "output_type": "execute_result"
    }
   ],
   "source": [
    "train_1.shape"
   ]
  },
  {
   "cell_type": "code",
   "execution_count": 43,
   "metadata": {},
   "outputs": [
    {
     "data": {
      "text/plain": [
       "(48744, 179)"
      ]
     },
     "execution_count": 43,
     "metadata": {},
     "output_type": "execute_result"
    }
   ],
   "source": [
    "test_1.shape"
   ]
  },
  {
   "cell_type": "code",
   "execution_count": 44,
   "metadata": {},
   "outputs": [
    {
     "data": {
      "text/html": [
       "<div>\n",
       "<style scoped>\n",
       "    .dataframe tbody tr th:only-of-type {\n",
       "        vertical-align: middle;\n",
       "    }\n",
       "\n",
       "    .dataframe tbody tr th {\n",
       "        vertical-align: top;\n",
       "    }\n",
       "\n",
       "    .dataframe thead th {\n",
       "        text-align: right;\n",
       "    }\n",
       "</style>\n",
       "<table border=\"1\" class=\"dataframe\">\n",
       "  <thead>\n",
       "    <tr style=\"text-align: right;\">\n",
       "      <th></th>\n",
       "      <th>sk_id_curr</th>\n",
       "      <th>cnt_children</th>\n",
       "      <th>amt_income_total</th>\n",
       "      <th>amt_credit</th>\n",
       "      <th>amt_annuity</th>\n",
       "      <th>amt_goods_price</th>\n",
       "      <th>region_population_relative</th>\n",
       "      <th>days_birth</th>\n",
       "      <th>days_employed</th>\n",
       "      <th>days_registration</th>\n",
       "      <th>...</th>\n",
       "      <th>organization_type_Trade: type 3</th>\n",
       "      <th>organization_type_Trade: type 4</th>\n",
       "      <th>organization_type_Trade: type 5</th>\n",
       "      <th>organization_type_Trade: type 6</th>\n",
       "      <th>organization_type_Trade: type 7</th>\n",
       "      <th>organization_type_Transport: type 1</th>\n",
       "      <th>organization_type_Transport: type 2</th>\n",
       "      <th>organization_type_Transport: type 3</th>\n",
       "      <th>organization_type_Transport: type 4</th>\n",
       "      <th>organization_type_University</th>\n",
       "    </tr>\n",
       "  </thead>\n",
       "  <tbody>\n",
       "    <tr>\n",
       "      <td>0</td>\n",
       "      <td>100002.0</td>\n",
       "      <td>0.0</td>\n",
       "      <td>202500.0</td>\n",
       "      <td>406597.5</td>\n",
       "      <td>24700.5</td>\n",
       "      <td>351000.0</td>\n",
       "      <td>0.018801</td>\n",
       "      <td>-9461.0</td>\n",
       "      <td>-637.0</td>\n",
       "      <td>-3648.0</td>\n",
       "      <td>...</td>\n",
       "      <td>0.0</td>\n",
       "      <td>0.0</td>\n",
       "      <td>0.0</td>\n",
       "      <td>0.0</td>\n",
       "      <td>0.0</td>\n",
       "      <td>0.0</td>\n",
       "      <td>0.0</td>\n",
       "      <td>0.0</td>\n",
       "      <td>0.0</td>\n",
       "      <td>0.0</td>\n",
       "    </tr>\n",
       "    <tr>\n",
       "      <td>1</td>\n",
       "      <td>100003.0</td>\n",
       "      <td>0.0</td>\n",
       "      <td>270000.0</td>\n",
       "      <td>1293502.5</td>\n",
       "      <td>35698.5</td>\n",
       "      <td>1129500.0</td>\n",
       "      <td>0.003541</td>\n",
       "      <td>-16765.0</td>\n",
       "      <td>-1188.0</td>\n",
       "      <td>-1186.0</td>\n",
       "      <td>...</td>\n",
       "      <td>0.0</td>\n",
       "      <td>0.0</td>\n",
       "      <td>0.0</td>\n",
       "      <td>0.0</td>\n",
       "      <td>0.0</td>\n",
       "      <td>0.0</td>\n",
       "      <td>0.0</td>\n",
       "      <td>0.0</td>\n",
       "      <td>0.0</td>\n",
       "      <td>0.0</td>\n",
       "    </tr>\n",
       "    <tr>\n",
       "      <td>2</td>\n",
       "      <td>100004.0</td>\n",
       "      <td>0.0</td>\n",
       "      <td>67500.0</td>\n",
       "      <td>135000.0</td>\n",
       "      <td>6750.0</td>\n",
       "      <td>135000.0</td>\n",
       "      <td>0.010032</td>\n",
       "      <td>-19046.0</td>\n",
       "      <td>-225.0</td>\n",
       "      <td>-4260.0</td>\n",
       "      <td>...</td>\n",
       "      <td>0.0</td>\n",
       "      <td>0.0</td>\n",
       "      <td>0.0</td>\n",
       "      <td>0.0</td>\n",
       "      <td>0.0</td>\n",
       "      <td>0.0</td>\n",
       "      <td>0.0</td>\n",
       "      <td>0.0</td>\n",
       "      <td>0.0</td>\n",
       "      <td>0.0</td>\n",
       "    </tr>\n",
       "    <tr>\n",
       "      <td>3</td>\n",
       "      <td>100006.0</td>\n",
       "      <td>0.0</td>\n",
       "      <td>135000.0</td>\n",
       "      <td>312682.5</td>\n",
       "      <td>29686.5</td>\n",
       "      <td>297000.0</td>\n",
       "      <td>0.008019</td>\n",
       "      <td>-19005.0</td>\n",
       "      <td>-3039.0</td>\n",
       "      <td>-9833.0</td>\n",
       "      <td>...</td>\n",
       "      <td>0.0</td>\n",
       "      <td>0.0</td>\n",
       "      <td>0.0</td>\n",
       "      <td>0.0</td>\n",
       "      <td>0.0</td>\n",
       "      <td>0.0</td>\n",
       "      <td>0.0</td>\n",
       "      <td>0.0</td>\n",
       "      <td>0.0</td>\n",
       "      <td>0.0</td>\n",
       "    </tr>\n",
       "    <tr>\n",
       "      <td>4</td>\n",
       "      <td>100007.0</td>\n",
       "      <td>0.0</td>\n",
       "      <td>121500.0</td>\n",
       "      <td>513000.0</td>\n",
       "      <td>21865.5</td>\n",
       "      <td>513000.0</td>\n",
       "      <td>0.028663</td>\n",
       "      <td>-19932.0</td>\n",
       "      <td>-3038.0</td>\n",
       "      <td>-4311.0</td>\n",
       "      <td>...</td>\n",
       "      <td>0.0</td>\n",
       "      <td>0.0</td>\n",
       "      <td>0.0</td>\n",
       "      <td>0.0</td>\n",
       "      <td>0.0</td>\n",
       "      <td>0.0</td>\n",
       "      <td>0.0</td>\n",
       "      <td>0.0</td>\n",
       "      <td>0.0</td>\n",
       "      <td>0.0</td>\n",
       "    </tr>\n",
       "  </tbody>\n",
       "</table>\n",
       "<p>5 rows × 179 columns</p>\n",
       "</div>"
      ],
      "text/plain": [
       "   sk_id_curr  cnt_children  amt_income_total  amt_credit  amt_annuity  \\\n",
       "0    100002.0           0.0          202500.0    406597.5      24700.5   \n",
       "1    100003.0           0.0          270000.0   1293502.5      35698.5   \n",
       "2    100004.0           0.0           67500.0    135000.0       6750.0   \n",
       "3    100006.0           0.0          135000.0    312682.5      29686.5   \n",
       "4    100007.0           0.0          121500.0    513000.0      21865.5   \n",
       "\n",
       "   amt_goods_price  region_population_relative  days_birth  days_employed  \\\n",
       "0         351000.0                    0.018801     -9461.0         -637.0   \n",
       "1        1129500.0                    0.003541    -16765.0        -1188.0   \n",
       "2         135000.0                    0.010032    -19046.0         -225.0   \n",
       "3         297000.0                    0.008019    -19005.0        -3039.0   \n",
       "4         513000.0                    0.028663    -19932.0        -3038.0   \n",
       "\n",
       "   days_registration  ...  organization_type_Trade: type 3  \\\n",
       "0            -3648.0  ...                              0.0   \n",
       "1            -1186.0  ...                              0.0   \n",
       "2            -4260.0  ...                              0.0   \n",
       "3            -9833.0  ...                              0.0   \n",
       "4            -4311.0  ...                              0.0   \n",
       "\n",
       "   organization_type_Trade: type 4  organization_type_Trade: type 5  \\\n",
       "0                              0.0                              0.0   \n",
       "1                              0.0                              0.0   \n",
       "2                              0.0                              0.0   \n",
       "3                              0.0                              0.0   \n",
       "4                              0.0                              0.0   \n",
       "\n",
       "   organization_type_Trade: type 6  organization_type_Trade: type 7  \\\n",
       "0                              0.0                              0.0   \n",
       "1                              0.0                              0.0   \n",
       "2                              0.0                              0.0   \n",
       "3                              0.0                              0.0   \n",
       "4                              0.0                              0.0   \n",
       "\n",
       "   organization_type_Transport: type 1  organization_type_Transport: type 2  \\\n",
       "0                                  0.0                                  0.0   \n",
       "1                                  0.0                                  0.0   \n",
       "2                                  0.0                                  0.0   \n",
       "3                                  0.0                                  0.0   \n",
       "4                                  0.0                                  0.0   \n",
       "\n",
       "   organization_type_Transport: type 3  organization_type_Transport: type 4  \\\n",
       "0                                  0.0                                  0.0   \n",
       "1                                  0.0                                  0.0   \n",
       "2                                  0.0                                  0.0   \n",
       "3                                  0.0                                  0.0   \n",
       "4                                  0.0                                  0.0   \n",
       "\n",
       "   organization_type_University  \n",
       "0                           0.0  \n",
       "1                           0.0  \n",
       "2                           0.0  \n",
       "3                           0.0  \n",
       "4                           0.0  \n",
       "\n",
       "[5 rows x 179 columns]"
      ]
     },
     "execution_count": 44,
     "metadata": {},
     "output_type": "execute_result"
    }
   ],
   "source": [
    "train_1.head()"
   ]
  },
  {
   "cell_type": "code",
   "execution_count": 45,
   "metadata": {},
   "outputs": [
    {
     "data": {
      "text/html": [
       "<div>\n",
       "<style scoped>\n",
       "    .dataframe tbody tr th:only-of-type {\n",
       "        vertical-align: middle;\n",
       "    }\n",
       "\n",
       "    .dataframe tbody tr th {\n",
       "        vertical-align: top;\n",
       "    }\n",
       "\n",
       "    .dataframe thead th {\n",
       "        text-align: right;\n",
       "    }\n",
       "</style>\n",
       "<table border=\"1\" class=\"dataframe\">\n",
       "  <thead>\n",
       "    <tr style=\"text-align: right;\">\n",
       "      <th></th>\n",
       "      <th>sk_id_curr</th>\n",
       "      <th>cnt_children</th>\n",
       "      <th>amt_income_total</th>\n",
       "      <th>amt_credit</th>\n",
       "      <th>amt_annuity</th>\n",
       "      <th>amt_goods_price</th>\n",
       "      <th>region_population_relative</th>\n",
       "      <th>days_birth</th>\n",
       "      <th>days_employed</th>\n",
       "      <th>days_registration</th>\n",
       "      <th>...</th>\n",
       "      <th>organization_type_Trade: type 3</th>\n",
       "      <th>organization_type_Trade: type 4</th>\n",
       "      <th>organization_type_Trade: type 5</th>\n",
       "      <th>organization_type_Trade: type 6</th>\n",
       "      <th>organization_type_Trade: type 7</th>\n",
       "      <th>organization_type_Transport: type 1</th>\n",
       "      <th>organization_type_Transport: type 2</th>\n",
       "      <th>organization_type_Transport: type 3</th>\n",
       "      <th>organization_type_Transport: type 4</th>\n",
       "      <th>organization_type_University</th>\n",
       "    </tr>\n",
       "  </thead>\n",
       "  <tbody>\n",
       "    <tr>\n",
       "      <td>0</td>\n",
       "      <td>100001.0</td>\n",
       "      <td>0.0</td>\n",
       "      <td>135000.0</td>\n",
       "      <td>568800.0</td>\n",
       "      <td>20560.5</td>\n",
       "      <td>450000.0</td>\n",
       "      <td>0.018850</td>\n",
       "      <td>-19241.0</td>\n",
       "      <td>-2329.0</td>\n",
       "      <td>-5170.0</td>\n",
       "      <td>...</td>\n",
       "      <td>0.0</td>\n",
       "      <td>0.0</td>\n",
       "      <td>0.0</td>\n",
       "      <td>0.0</td>\n",
       "      <td>0.0</td>\n",
       "      <td>0.0</td>\n",
       "      <td>0.0</td>\n",
       "      <td>0.0</td>\n",
       "      <td>0.0</td>\n",
       "      <td>0.0</td>\n",
       "    </tr>\n",
       "    <tr>\n",
       "      <td>1</td>\n",
       "      <td>100005.0</td>\n",
       "      <td>0.0</td>\n",
       "      <td>99000.0</td>\n",
       "      <td>222768.0</td>\n",
       "      <td>17370.0</td>\n",
       "      <td>180000.0</td>\n",
       "      <td>0.035792</td>\n",
       "      <td>-18064.0</td>\n",
       "      <td>-4469.0</td>\n",
       "      <td>-9118.0</td>\n",
       "      <td>...</td>\n",
       "      <td>0.0</td>\n",
       "      <td>0.0</td>\n",
       "      <td>0.0</td>\n",
       "      <td>0.0</td>\n",
       "      <td>0.0</td>\n",
       "      <td>0.0</td>\n",
       "      <td>0.0</td>\n",
       "      <td>0.0</td>\n",
       "      <td>0.0</td>\n",
       "      <td>0.0</td>\n",
       "    </tr>\n",
       "    <tr>\n",
       "      <td>2</td>\n",
       "      <td>100013.0</td>\n",
       "      <td>0.0</td>\n",
       "      <td>202500.0</td>\n",
       "      <td>663264.0</td>\n",
       "      <td>69777.0</td>\n",
       "      <td>630000.0</td>\n",
       "      <td>0.019101</td>\n",
       "      <td>-20038.0</td>\n",
       "      <td>-4458.0</td>\n",
       "      <td>-2175.0</td>\n",
       "      <td>...</td>\n",
       "      <td>0.0</td>\n",
       "      <td>0.0</td>\n",
       "      <td>0.0</td>\n",
       "      <td>0.0</td>\n",
       "      <td>0.0</td>\n",
       "      <td>0.0</td>\n",
       "      <td>0.0</td>\n",
       "      <td>1.0</td>\n",
       "      <td>0.0</td>\n",
       "      <td>0.0</td>\n",
       "    </tr>\n",
       "    <tr>\n",
       "      <td>3</td>\n",
       "      <td>100028.0</td>\n",
       "      <td>2.0</td>\n",
       "      <td>315000.0</td>\n",
       "      <td>1575000.0</td>\n",
       "      <td>49018.5</td>\n",
       "      <td>1575000.0</td>\n",
       "      <td>0.026392</td>\n",
       "      <td>-13976.0</td>\n",
       "      <td>-1866.0</td>\n",
       "      <td>-2000.0</td>\n",
       "      <td>...</td>\n",
       "      <td>0.0</td>\n",
       "      <td>0.0</td>\n",
       "      <td>0.0</td>\n",
       "      <td>0.0</td>\n",
       "      <td>0.0</td>\n",
       "      <td>0.0</td>\n",
       "      <td>0.0</td>\n",
       "      <td>0.0</td>\n",
       "      <td>0.0</td>\n",
       "      <td>0.0</td>\n",
       "    </tr>\n",
       "    <tr>\n",
       "      <td>4</td>\n",
       "      <td>100038.0</td>\n",
       "      <td>1.0</td>\n",
       "      <td>180000.0</td>\n",
       "      <td>625500.0</td>\n",
       "      <td>32067.0</td>\n",
       "      <td>625500.0</td>\n",
       "      <td>0.010032</td>\n",
       "      <td>-13040.0</td>\n",
       "      <td>-2191.0</td>\n",
       "      <td>-4000.0</td>\n",
       "      <td>...</td>\n",
       "      <td>0.0</td>\n",
       "      <td>0.0</td>\n",
       "      <td>0.0</td>\n",
       "      <td>0.0</td>\n",
       "      <td>0.0</td>\n",
       "      <td>0.0</td>\n",
       "      <td>0.0</td>\n",
       "      <td>0.0</td>\n",
       "      <td>0.0</td>\n",
       "      <td>0.0</td>\n",
       "    </tr>\n",
       "  </tbody>\n",
       "</table>\n",
       "<p>5 rows × 179 columns</p>\n",
       "</div>"
      ],
      "text/plain": [
       "   sk_id_curr  cnt_children  amt_income_total  amt_credit  amt_annuity  \\\n",
       "0    100001.0           0.0          135000.0    568800.0      20560.5   \n",
       "1    100005.0           0.0           99000.0    222768.0      17370.0   \n",
       "2    100013.0           0.0          202500.0    663264.0      69777.0   \n",
       "3    100028.0           2.0          315000.0   1575000.0      49018.5   \n",
       "4    100038.0           1.0          180000.0    625500.0      32067.0   \n",
       "\n",
       "   amt_goods_price  region_population_relative  days_birth  days_employed  \\\n",
       "0         450000.0                    0.018850    -19241.0        -2329.0   \n",
       "1         180000.0                    0.035792    -18064.0        -4469.0   \n",
       "2         630000.0                    0.019101    -20038.0        -4458.0   \n",
       "3        1575000.0                    0.026392    -13976.0        -1866.0   \n",
       "4         625500.0                    0.010032    -13040.0        -2191.0   \n",
       "\n",
       "   days_registration  ...  organization_type_Trade: type 3  \\\n",
       "0            -5170.0  ...                              0.0   \n",
       "1            -9118.0  ...                              0.0   \n",
       "2            -2175.0  ...                              0.0   \n",
       "3            -2000.0  ...                              0.0   \n",
       "4            -4000.0  ...                              0.0   \n",
       "\n",
       "   organization_type_Trade: type 4  organization_type_Trade: type 5  \\\n",
       "0                              0.0                              0.0   \n",
       "1                              0.0                              0.0   \n",
       "2                              0.0                              0.0   \n",
       "3                              0.0                              0.0   \n",
       "4                              0.0                              0.0   \n",
       "\n",
       "   organization_type_Trade: type 6  organization_type_Trade: type 7  \\\n",
       "0                              0.0                              0.0   \n",
       "1                              0.0                              0.0   \n",
       "2                              0.0                              0.0   \n",
       "3                              0.0                              0.0   \n",
       "4                              0.0                              0.0   \n",
       "\n",
       "   organization_type_Transport: type 1  organization_type_Transport: type 2  \\\n",
       "0                                  0.0                                  0.0   \n",
       "1                                  0.0                                  0.0   \n",
       "2                                  0.0                                  0.0   \n",
       "3                                  0.0                                  0.0   \n",
       "4                                  0.0                                  0.0   \n",
       "\n",
       "   organization_type_Transport: type 3  organization_type_Transport: type 4  \\\n",
       "0                                  0.0                                  0.0   \n",
       "1                                  0.0                                  0.0   \n",
       "2                                  1.0                                  0.0   \n",
       "3                                  0.0                                  0.0   \n",
       "4                                  0.0                                  0.0   \n",
       "\n",
       "   organization_type_University  \n",
       "0                           0.0  \n",
       "1                           0.0  \n",
       "2                           0.0  \n",
       "3                           0.0  \n",
       "4                           0.0  \n",
       "\n",
       "[5 rows x 179 columns]"
      ]
     },
     "execution_count": 45,
     "metadata": {},
     "output_type": "execute_result"
    }
   ],
   "source": [
    "test_1.head()"
   ]
  },
  {
   "cell_type": "code",
   "execution_count": 46,
   "metadata": {},
   "outputs": [
    {
     "data": {
      "text/plain": [
       "(48744, 179)"
      ]
     },
     "execution_count": 46,
     "metadata": {},
     "output_type": "execute_result"
    }
   ],
   "source": [
    "test_1.shape"
   ]
  },
  {
   "cell_type": "markdown",
   "metadata": {},
   "source": [
    "### One more check for nulls in test data"
   ]
  },
  {
   "cell_type": "code",
   "execution_count": 47,
   "metadata": {},
   "outputs": [
    {
     "data": {
      "text/plain": [
       "sk_id_curr                             0\n",
       "cnt_children                           0\n",
       "amt_income_total                       0\n",
       "amt_credit                             0\n",
       "amt_annuity                            0\n",
       "                                      ..\n",
       "organization_type_Transport: type 1    0\n",
       "organization_type_Transport: type 2    0\n",
       "organization_type_Transport: type 3    0\n",
       "organization_type_Transport: type 4    0\n",
       "organization_type_University           0\n",
       "Length: 179, dtype: int64"
      ]
     },
     "execution_count": 47,
     "metadata": {},
     "output_type": "execute_result"
    }
   ],
   "source": [
    "test_1.isnull().sum()"
   ]
  },
  {
   "cell_type": "code",
   "execution_count": 48,
   "metadata": {},
   "outputs": [
    {
     "name": "stdout",
     "output_type": "stream",
     "text": [
      "Column  |   Nulls\n"
     ]
    }
   ],
   "source": [
    "print('Column  |   Nulls')\n",
    "for column in list(test_1.columns):\n",
    "    if test_1[column].isnull().sum() > 0:\n",
    "        print(column,  '|',  test_1[column].isnull().sum())"
   ]
  },
  {
   "cell_type": "markdown",
   "metadata": {},
   "source": [
    "#### Making a copy to run a traintestsplit and determine accuracy of models 1 and 2"
   ]
  },
  {
   "cell_type": "code",
   "execution_count": 49,
   "metadata": {},
   "outputs": [],
   "source": [
    "# For logistic regression\n",
    "train_1_split = train_1.copy()\n",
    "\n",
    "# For logistic regression with gridsearch\n",
    "train_2_split = train_1.copy()\n",
    "\n",
    "# For random forrest\n",
    "train_3_split = train_1.copy()\n",
    "\n",
    "# For\n",
    "train_4_split = train_1.copy()"
   ]
  },
  {
   "cell_type": "markdown",
   "metadata": {},
   "source": [
    "#### Making a copy of the data so that we can rerun the regression using different models"
   ]
  },
  {
   "cell_type": "code",
   "execution_count": 50,
   "metadata": {},
   "outputs": [],
   "source": [
    "# For logistic regression with gridsearch\n",
    "train_2 = train_1.copy()\n",
    "test_2 = test_1.copy()\n",
    "\n",
    "# For random forrest\n",
    "train_3 = train_1.copy()\n",
    "test_3 = train_1.copy()\n",
    "\n",
    "# For\n",
    "train_4 = train_1.copy()\n",
    "test_4 = train_1.copy()"
   ]
  },
  {
   "cell_type": "markdown",
   "metadata": {},
   "source": [
    " "
   ]
  },
  {
   "cell_type": "markdown",
   "metadata": {},
   "source": [
    " "
   ]
  },
  {
   "cell_type": "markdown",
   "metadata": {},
   "source": [
    "## Running the first version of the model"
   ]
  },
  {
   "cell_type": "markdown",
   "metadata": {},
   "source": [
    "### This first part is for the official submission"
   ]
  },
  {
   "cell_type": "code",
   "execution_count": 51,
   "metadata": {},
   "outputs": [],
   "source": [
    "from sklearn.linear_model import LogisticRegression"
   ]
  },
  {
   "cell_type": "code",
   "execution_count": 52,
   "metadata": {},
   "outputs": [],
   "source": [
    "LRM = LogisticRegression()"
   ]
  },
  {
   "cell_type": "code",
   "execution_count": 53,
   "metadata": {},
   "outputs": [
    {
     "name": "stdout",
     "output_type": "stream",
     "text": [
      "210207\n",
      "210207\n"
     ]
    }
   ],
   "source": [
    "print(len(train_1))\n",
    "print(len(labels))"
   ]
  },
  {
   "cell_type": "code",
   "execution_count": 54,
   "metadata": {},
   "outputs": [
    {
     "name": "stderr",
     "output_type": "stream",
     "text": [
      "/Applications/anaconda3/lib/python3.7/site-packages/sklearn/linear_model/logistic.py:432: FutureWarning: Default solver will be changed to 'lbfgs' in 0.22. Specify a solver to silence this warning.\n",
      "  FutureWarning)\n"
     ]
    },
    {
     "data": {
      "text/plain": [
       "LogisticRegression(C=1.0, class_weight=None, dual=False, fit_intercept=True,\n",
       "                   intercept_scaling=1, l1_ratio=None, max_iter=100,\n",
       "                   multi_class='warn', n_jobs=None, penalty='l2',\n",
       "                   random_state=None, solver='warn', tol=0.0001, verbose=0,\n",
       "                   warm_start=False)"
      ]
     },
     "execution_count": 54,
     "metadata": {},
     "output_type": "execute_result"
    }
   ],
   "source": [
    "LRM.fit(train_1, labels)"
   ]
  },
  {
   "cell_type": "code",
   "execution_count": 55,
   "metadata": {},
   "outputs": [],
   "source": [
    "LRM_prediction = LRM.predict_proba(test_1)[:, 1]"
   ]
  },
  {
   "cell_type": "code",
   "execution_count": 56,
   "metadata": {},
   "outputs": [],
   "source": [
    "solution_1 = pd.DataFrame(test_1[['sk_id_curr']])\n",
    "solution_1['target'] = LRM_prediction\n",
    "\n",
    "# solution_1['target'].value_counts()"
   ]
  },
  {
   "cell_type": "code",
   "execution_count": 57,
   "metadata": {},
   "outputs": [
    {
     "data": {
      "text/html": [
       "<div>\n",
       "<style scoped>\n",
       "    .dataframe tbody tr th:only-of-type {\n",
       "        vertical-align: middle;\n",
       "    }\n",
       "\n",
       "    .dataframe tbody tr th {\n",
       "        vertical-align: top;\n",
       "    }\n",
       "\n",
       "    .dataframe thead th {\n",
       "        text-align: right;\n",
       "    }\n",
       "</style>\n",
       "<table border=\"1\" class=\"dataframe\">\n",
       "  <thead>\n",
       "    <tr style=\"text-align: right;\">\n",
       "      <th></th>\n",
       "      <th>sk_id_curr</th>\n",
       "      <th>target</th>\n",
       "    </tr>\n",
       "  </thead>\n",
       "  <tbody>\n",
       "    <tr>\n",
       "      <td>0</td>\n",
       "      <td>100001.0</td>\n",
       "      <td>0.090598</td>\n",
       "    </tr>\n",
       "    <tr>\n",
       "      <td>1</td>\n",
       "      <td>100005.0</td>\n",
       "      <td>0.096364</td>\n",
       "    </tr>\n",
       "    <tr>\n",
       "      <td>2</td>\n",
       "      <td>100013.0</td>\n",
       "      <td>0.059543</td>\n",
       "    </tr>\n",
       "    <tr>\n",
       "      <td>3</td>\n",
       "      <td>100028.0</td>\n",
       "      <td>0.030318</td>\n",
       "    </tr>\n",
       "    <tr>\n",
       "      <td>4</td>\n",
       "      <td>100038.0</td>\n",
       "      <td>0.081135</td>\n",
       "    </tr>\n",
       "  </tbody>\n",
       "</table>\n",
       "</div>"
      ],
      "text/plain": [
       "   sk_id_curr    target\n",
       "0    100001.0  0.090598\n",
       "1    100005.0  0.096364\n",
       "2    100013.0  0.059543\n",
       "3    100028.0  0.030318\n",
       "4    100038.0  0.081135"
      ]
     },
     "execution_count": 57,
     "metadata": {},
     "output_type": "execute_result"
    }
   ],
   "source": [
    "solution_1.head()"
   ]
  },
  {
   "cell_type": "markdown",
   "metadata": {},
   "source": [
    "### Now run version 1 on the train_test_split of the training dataset to check performance"
   ]
  },
  {
   "cell_type": "code",
   "execution_count": 58,
   "metadata": {},
   "outputs": [],
   "source": [
    "from sklearn.model_selection import train_test_split\n",
    "X_train_1, X_test_1, y_train_1, y_test_1 = train_test_split(train_1_split, labels, test_size=0.25, random_state=42)"
   ]
  },
  {
   "cell_type": "code",
   "execution_count": 59,
   "metadata": {},
   "outputs": [
    {
     "name": "stderr",
     "output_type": "stream",
     "text": [
      "/Applications/anaconda3/lib/python3.7/site-packages/sklearn/linear_model/logistic.py:432: FutureWarning: Default solver will be changed to 'lbfgs' in 0.22. Specify a solver to silence this warning.\n",
      "  FutureWarning)\n"
     ]
    },
    {
     "data": {
      "text/plain": [
       "LogisticRegression(C=1.0, class_weight=None, dual=False, fit_intercept=True,\n",
       "                   intercept_scaling=1, l1_ratio=None, max_iter=100,\n",
       "                   multi_class='warn', n_jobs=None, penalty='l2',\n",
       "                   random_state=None, solver='warn', tol=0.0001, verbose=0,\n",
       "                   warm_start=False)"
      ]
     },
     "execution_count": 59,
     "metadata": {},
     "output_type": "execute_result"
    }
   ],
   "source": [
    "LRM.fit(X_train_1, y_train_1)"
   ]
  },
  {
   "cell_type": "code",
   "execution_count": 60,
   "metadata": {},
   "outputs": [],
   "source": [
    "predictions_1 = LRM.predict(X_test_1)"
   ]
  },
  {
   "cell_type": "code",
   "execution_count": 61,
   "metadata": {},
   "outputs": [
    {
     "name": "stdout",
     "output_type": "stream",
     "text": [
      "Model 1 (Basic logistic regression) Classification Report:\n",
      "              precision    recall  f1-score   support\n",
      "\n",
      "  No default       0.91      1.00      0.95     47895\n",
      "     Default       0.00      0.00      0.00      4657\n",
      "\n",
      "    accuracy                           0.91     52552\n",
      "   macro avg       0.46      0.50      0.48     52552\n",
      "weighted avg       0.83      0.91      0.87     52552\n",
      "\n",
      "\n",
      "\n",
      "\n",
      "Model 1 (Basic logistic regression) Accuracy Score:\n",
      "0.9113830111128025\n",
      "\n",
      "\n",
      "\n",
      "Model 1 (Basic logistic regression) AUC Score:\n",
      "0.6264590404852538\n"
     ]
    },
    {
     "name": "stderr",
     "output_type": "stream",
     "text": [
      "/Applications/anaconda3/lib/python3.7/site-packages/sklearn/metrics/classification.py:1437: UndefinedMetricWarning: Precision and F-score are ill-defined and being set to 0.0 in labels with no predicted samples.\n",
      "  'precision', 'predicted', average, warn_for)\n"
     ]
    }
   ],
   "source": [
    "from sklearn.metrics import classification_report, accuracy_score, roc_auc_score\n",
    "print(\"Model 1 (Basic logistic regression) Classification Report:\")\n",
    "print(classification_report(y_test_1, predictions_1,\n",
    "                            target_names=['No default', 'Default']))\n",
    "print('\\n\\n')\n",
    "\n",
    "print(\"Model 1 (Basic logistic regression) Accuracy Score:\")\n",
    "print(accuracy_score(y_test_1, LRM.predict(X_test_1)))\n",
    "print('\\n\\n')\n",
    "\n",
    "print(\"Model 1 (Basic logistic regression) AUC Score:\")\n",
    "print(roc_auc_score(y_test_1, LRM.predict_proba(X_test_1)[:,1]))"
   ]
  },
  {
   "cell_type": "markdown",
   "metadata": {},
   "source": [
    " "
   ]
  },
  {
   "cell_type": "markdown",
   "metadata": {},
   "source": [
    " "
   ]
  },
  {
   "cell_type": "markdown",
   "metadata": {},
   "source": [
    "# Now we're going to try another logistic regression using grid search to improve the regression parameters"
   ]
  },
  {
   "cell_type": "markdown",
   "metadata": {},
   "source": [
    "### Below is the official submission of the second model version"
   ]
  },
  {
   "cell_type": "code",
   "execution_count": 63,
   "metadata": {},
   "outputs": [
    {
     "name": "stderr",
     "output_type": "stream",
     "text": [
      "/Applications/anaconda3/lib/python3.7/site-packages/sklearn/model_selection/_split.py:1978: FutureWarning: The default value of cv will change from 3 to 5 in version 0.22. Specify it explicitly to silence this warning.\n",
      "  warnings.warn(CV_WARNING, FutureWarning)\n",
      "/Applications/anaconda3/lib/python3.7/site-packages/sklearn/linear_model/logistic.py:432: FutureWarning: Default solver will be changed to 'lbfgs' in 0.22. Specify a solver to silence this warning.\n",
      "  FutureWarning)\n"
     ]
    },
    {
     "data": {
      "text/plain": [
       "GridSearchCV(cv='warn', error_score='raise-deprecating',\n",
       "             estimator=LogisticRegression(C=1.0, class_weight=None, dual=False,\n",
       "                                          fit_intercept=True,\n",
       "                                          intercept_scaling=1, l1_ratio=None,\n",
       "                                          max_iter=100, multi_class='warn',\n",
       "                                          n_jobs=None, penalty='l2',\n",
       "                                          random_state=None, solver='warn',\n",
       "                                          tol=0.0001, verbose=0,\n",
       "                                          warm_start=False),\n",
       "             iid='warn', n_jobs=-1,\n",
       "             param_grid={'C': [0.001, 0.009, 0.01, 0.09, 1, 5, 10, 25],\n",
       "                         'penalty': ['l1', 'l2']},\n",
       "             pre_dispatch='2*n_jobs', refit=True, return_train_score=False,\n",
       "             scoring='recall', verbose=0)"
      ]
     },
     "execution_count": 63,
     "metadata": {},
     "output_type": "execute_result"
    }
   ],
   "source": [
    "from sklearn.model_selection import GridSearchCV\n",
    "\n",
    "grid_values = {'penalty': ['l1', 'l2'],'C':[0.001,.009,0.01,.09,1,5,10,25]}\n",
    "grid_LRM = GridSearchCV(LRM, param_grid = grid_values,scoring = 'recall', n_jobs=-1)\n",
    "grid_LRM.fit(train_1, labels)"
   ]
  },
  {
   "cell_type": "code",
   "execution_count": 64,
   "metadata": {},
   "outputs": [],
   "source": [
    "grid_LRM_prediction = grid_LRM.predict_proba(test_2)[:, 1]"
   ]
  },
  {
   "cell_type": "code",
   "execution_count": 65,
   "metadata": {},
   "outputs": [],
   "source": [
    "solution_2 = pd.DataFrame(test_1[['sk_id_curr']])\n",
    "solution_2['target'] = grid_LRM_prediction"
   ]
  },
  {
   "cell_type": "code",
   "execution_count": 66,
   "metadata": {},
   "outputs": [
    {
     "data": {
      "text/html": [
       "<div>\n",
       "<style scoped>\n",
       "    .dataframe tbody tr th:only-of-type {\n",
       "        vertical-align: middle;\n",
       "    }\n",
       "\n",
       "    .dataframe tbody tr th {\n",
       "        vertical-align: top;\n",
       "    }\n",
       "\n",
       "    .dataframe thead th {\n",
       "        text-align: right;\n",
       "    }\n",
       "</style>\n",
       "<table border=\"1\" class=\"dataframe\">\n",
       "  <thead>\n",
       "    <tr style=\"text-align: right;\">\n",
       "      <th></th>\n",
       "      <th>sk_id_curr</th>\n",
       "      <th>target</th>\n",
       "    </tr>\n",
       "  </thead>\n",
       "  <tbody>\n",
       "    <tr>\n",
       "      <td>0</td>\n",
       "      <td>100001.0</td>\n",
       "      <td>0.072988</td>\n",
       "    </tr>\n",
       "    <tr>\n",
       "      <td>1</td>\n",
       "      <td>100005.0</td>\n",
       "      <td>0.221456</td>\n",
       "    </tr>\n",
       "    <tr>\n",
       "      <td>2</td>\n",
       "      <td>100013.0</td>\n",
       "      <td>0.038188</td>\n",
       "    </tr>\n",
       "    <tr>\n",
       "      <td>3</td>\n",
       "      <td>100028.0</td>\n",
       "      <td>0.032357</td>\n",
       "    </tr>\n",
       "    <tr>\n",
       "      <td>4</td>\n",
       "      <td>100038.0</td>\n",
       "      <td>0.100813</td>\n",
       "    </tr>\n",
       "  </tbody>\n",
       "</table>\n",
       "</div>"
      ],
      "text/plain": [
       "   sk_id_curr    target\n",
       "0    100001.0  0.072988\n",
       "1    100005.0  0.221456\n",
       "2    100013.0  0.038188\n",
       "3    100028.0  0.032357\n",
       "4    100038.0  0.100813"
      ]
     },
     "execution_count": 66,
     "metadata": {},
     "output_type": "execute_result"
    }
   ],
   "source": [
    "solution_2.head()"
   ]
  },
  {
   "cell_type": "markdown",
   "metadata": {},
   "source": [
    "### Now rerun the second model on a train_test_split to check the performance"
   ]
  },
  {
   "cell_type": "code",
   "execution_count": 85,
   "metadata": {},
   "outputs": [],
   "source": [
    "X_train_2, X_test_2, y_train_2, y_test_2 = train_test_split(train_2_split, labels, test_size=0.25, random_state=42)"
   ]
  },
  {
   "cell_type": "code",
   "execution_count": 86,
   "metadata": {},
   "outputs": [
    {
     "name": "stderr",
     "output_type": "stream",
     "text": [
      "/Applications/anaconda3/lib/python3.7/site-packages/sklearn/model_selection/_split.py:1978: FutureWarning: The default value of cv will change from 3 to 5 in version 0.22. Specify it explicitly to silence this warning.\n",
      "  warnings.warn(CV_WARNING, FutureWarning)\n",
      "/Applications/anaconda3/lib/python3.7/site-packages/sklearn/linear_model/logistic.py:432: FutureWarning: Default solver will be changed to 'lbfgs' in 0.22. Specify a solver to silence this warning.\n",
      "  FutureWarning)\n"
     ]
    },
    {
     "data": {
      "text/plain": [
       "GridSearchCV(cv='warn', error_score='raise-deprecating',\n",
       "             estimator=LogisticRegression(C=1.0, class_weight=None, dual=False,\n",
       "                                          fit_intercept=True,\n",
       "                                          intercept_scaling=1, l1_ratio=None,\n",
       "                                          max_iter=100, multi_class='warn',\n",
       "                                          n_jobs=None, penalty='l2',\n",
       "                                          random_state=None, solver='warn',\n",
       "                                          tol=0.0001, verbose=0,\n",
       "                                          warm_start=False),\n",
       "             iid='warn', n_jobs=-1,\n",
       "             param_grid={'C': [0.001, 0.009, 0.01, 0.09, 1, 5, 10, 25],\n",
       "                         'penalty': ['l1', 'l2']},\n",
       "             pre_dispatch='2*n_jobs', refit=True, return_train_score=False,\n",
       "             scoring='roc_auc', verbose=0)"
      ]
     },
     "execution_count": 86,
     "metadata": {},
     "output_type": "execute_result"
    }
   ],
   "source": [
    "grid_values = {'penalty': ['l1', 'l2'],'C':[0.001,.009,0.01,.09,1,5,10,25]}\n",
    "LRM_split_grid = GridSearchCV(LRM, param_grid = grid_values,scoring = 'roc_auc', n_jobs=-1)\n",
    "LRM_split_grid.fit(X_train_2, y_train_2)"
   ]
  },
  {
   "cell_type": "code",
   "execution_count": 87,
   "metadata": {},
   "outputs": [],
   "source": [
    "predictions_2 = LRM_split_grid.predict(X_test_2)"
   ]
  },
  {
   "cell_type": "code",
   "execution_count": 88,
   "metadata": {},
   "outputs": [
    {
     "name": "stdout",
     "output_type": "stream",
     "text": [
      "Model 2 (Logistic regression using grid search) Classification Report:\n",
      "              precision    recall  f1-score   support\n",
      "\n",
      "  No default       0.91      1.00      0.95     47895\n",
      "     Default       0.48      0.01      0.02      4657\n",
      "\n",
      "    accuracy                           0.91     52552\n",
      "   macro avg       0.69      0.50      0.49     52552\n",
      "weighted avg       0.87      0.91      0.87     52552\n",
      "\n",
      "\n",
      "\n",
      "\n",
      "Model 2 (Logistic regression using grid search) Accuracy Score:\n",
      "0.91128786725529\n",
      "\n",
      "\n",
      "\n",
      "Model 2 (Logistic regression using grid search) AUC Score:\n",
      "0.7433466885893991\n"
     ]
    }
   ],
   "source": [
    "print(\"Model 2 (Logistic regression using grid search) Classification Report:\")\n",
    "print(classification_report(y_test_2, predictions_2,\n",
    "                            target_names=['No default', 'Default']))\n",
    "print('\\n\\n')\n",
    "\n",
    "print(\"Model 2 (Logistic regression using grid search) Accuracy Score:\")\n",
    "print(accuracy_score(y_test_2, LRM_split_grid.predict(X_test_2)))\n",
    "print('\\n\\n')\n",
    "\n",
    "print(\"Model 2 (Logistic regression using grid search) AUC Score:\")\n",
    "print(roc_auc_score(y_test_2, LRM_split_grid.predict_proba(X_test_2)[:,1]))"
   ]
  },
  {
   "cell_type": "markdown",
   "metadata": {},
   "source": [
    "**The performance in model 2 is better than model 1**"
   ]
  },
  {
   "cell_type": "markdown",
   "metadata": {},
   "source": [
    "## Version 3--using a random forrest algorithm"
   ]
  },
  {
   "cell_type": "code",
   "execution_count": 71,
   "metadata": {},
   "outputs": [],
   "source": [
    "from sklearn.ensemble import RandomForestClassifier"
   ]
  },
  {
   "cell_type": "code",
   "execution_count": 72,
   "metadata": {},
   "outputs": [],
   "source": [
    "RFM = RandomForestClassifier(n_estimators=100, max_leaf_nodes=None, n_jobs=None)"
   ]
  },
  {
   "cell_type": "code",
   "execution_count": 73,
   "metadata": {},
   "outputs": [],
   "source": [
    "X_train_3, X_test_3, y_train_3, y_test_3 = train_test_split(train_3_split, labels, test_size=0.25, random_state=42)"
   ]
  },
  {
   "cell_type": "code",
   "execution_count": 74,
   "metadata": {},
   "outputs": [
    {
     "data": {
      "text/plain": [
       "RandomForestClassifier(bootstrap=True, class_weight=None, criterion='gini',\n",
       "                       max_depth=None, max_features='auto', max_leaf_nodes=None,\n",
       "                       min_impurity_decrease=0.0, min_impurity_split=None,\n",
       "                       min_samples_leaf=1, min_samples_split=2,\n",
       "                       min_weight_fraction_leaf=0.0, n_estimators=100,\n",
       "                       n_jobs=None, oob_score=False, random_state=None,\n",
       "                       verbose=0, warm_start=False)"
      ]
     },
     "execution_count": 74,
     "metadata": {},
     "output_type": "execute_result"
    }
   ],
   "source": [
    "RFM.fit(X_train_3, y_train_3)"
   ]
  },
  {
   "cell_type": "code",
   "execution_count": 75,
   "metadata": {},
   "outputs": [],
   "source": [
    "RFM_predictions = RFM.predict(X_test_3)"
   ]
  },
  {
   "cell_type": "code",
   "execution_count": 76,
   "metadata": {},
   "outputs": [
    {
     "name": "stdout",
     "output_type": "stream",
     "text": [
      "Model 3 (random forrest) Classification Report:\n",
      "              precision    recall  f1-score   support\n",
      "\n",
      "  No default       0.91      1.00      0.95     47895\n",
      "     Default       1.00      0.00      0.00      4657\n",
      "\n",
      "    accuracy                           0.91     52552\n",
      "   macro avg       0.96      0.50      0.48     52552\n",
      "weighted avg       0.92      0.91      0.87     52552\n",
      "\n",
      "\n",
      "\n",
      "\n",
      "Model 3 (random forrest) Accuracy Score:\n",
      "0.9114210686558076\n",
      "\n",
      "\n",
      "\n",
      "Model 3 (random forrest) AUC Score:\n",
      "0.7134299241798866\n"
     ]
    }
   ],
   "source": [
    "print(\"Model 3 (random forrest) Classification Report:\")\n",
    "print(classification_report(y_test_3, RFM_predictions,\n",
    "                            target_names=['No default', 'Default']))\n",
    "print('\\n\\n')\n",
    "\n",
    "print(\"Model 3 (random forrest) Accuracy Score:\")\n",
    "print(accuracy_score(y_test_1, RFM_predictions))\n",
    "print('\\n\\n')\n",
    "\n",
    "print(\"Model 3 (random forrest) AUC Score:\")\n",
    "print(roc_auc_score(y_test_3, RFM.predict_proba(X_test_3)[:,1]))"
   ]
  },
  {
   "cell_type": "markdown",
   "metadata": {},
   "source": [
    "## Version 4--random forrest algorithm with gridsearch"
   ]
  },
  {
   "cell_type": "code",
   "execution_count": 77,
   "metadata": {},
   "outputs": [],
   "source": [
    "X_train_4, X_test_4, y_train_4, y_test_4 = train_test_split(train_4_split, labels, test_size=0.25, random_state=42)"
   ]
  },
  {
   "cell_type": "code",
   "execution_count": 78,
   "metadata": {},
   "outputs": [],
   "source": [
    "RFM_param_grid = { \n",
    "    'n_estimators': [20, 50, 100],\n",
    "    'max_features': [1,3,10, 'auto'], #['auto', 'sqrt', 'log2'],\n",
    "    'max_depth' : [5,8,10,15],\n",
    "#     'min_samples_leaf' : [1,3,5],\n",
    "    'criterion' : ['gini', 'entropy'],\n",
    "    'bootstrap' : [True, False]\n",
    "}"
   ]
  },
  {
   "cell_type": "code",
   "execution_count": 79,
   "metadata": {},
   "outputs": [],
   "source": [
    "RFM_2 = RandomForestClassifier()\n",
    "grid_RFM = GridSearchCV(RFM_2, param_grid=RFM_param_grid, scoring='roc_auc', cv=3, n_jobs=-1, verbose=3)\n"
   ]
  },
  {
   "cell_type": "code",
   "execution_count": 80,
   "metadata": {},
   "outputs": [
    {
     "name": "stdout",
     "output_type": "stream",
     "text": [
      "157655\n",
      "157655\n"
     ]
    }
   ],
   "source": [
    "print(len(X_train_4))\n",
    "print(len(y_train_4))"
   ]
  },
  {
   "cell_type": "code",
   "execution_count": 81,
   "metadata": {},
   "outputs": [
    {
     "name": "stdout",
     "output_type": "stream",
     "text": [
      "Fitting 3 folds for each of 192 candidates, totalling 576 fits\n"
     ]
    },
    {
     "name": "stderr",
     "output_type": "stream",
     "text": [
      "[Parallel(n_jobs=-1)]: Using backend LokyBackend with 8 concurrent workers.\n",
      "[Parallel(n_jobs=-1)]: Done  16 tasks      | elapsed:    6.2s\n",
      "[Parallel(n_jobs=-1)]: Done 112 tasks      | elapsed:  1.8min\n",
      "[Parallel(n_jobs=-1)]: Done 272 tasks      | elapsed:  5.4min\n",
      "[Parallel(n_jobs=-1)]: Done 496 tasks      | elapsed: 11.2min\n",
      "[Parallel(n_jobs=-1)]: Done 576 out of 576 | elapsed: 14.3min finished\n"
     ]
    },
    {
     "data": {
      "text/plain": [
       "GridSearchCV(cv=3, error_score='raise-deprecating',\n",
       "             estimator=RandomForestClassifier(bootstrap=True, class_weight=None,\n",
       "                                              criterion='gini', max_depth=None,\n",
       "                                              max_features='auto',\n",
       "                                              max_leaf_nodes=None,\n",
       "                                              min_impurity_decrease=0.0,\n",
       "                                              min_impurity_split=None,\n",
       "                                              min_samples_leaf=1,\n",
       "                                              min_samples_split=2,\n",
       "                                              min_weight_fraction_leaf=0.0,\n",
       "                                              n_estimators='warn', n_jobs=None,\n",
       "                                              oob_score=False,\n",
       "                                              random_state=None, verbose=0,\n",
       "                                              warm_start=False),\n",
       "             iid='warn', n_jobs=-1,\n",
       "             param_grid={'bootstrap': [True, False],\n",
       "                         'criterion': ['gini', 'entropy'],\n",
       "                         'max_depth': [5, 8, 10, 15],\n",
       "                         'max_features': [1, 3, 10, 'auto'],\n",
       "                         'n_estimators': [20, 50, 100]},\n",
       "             pre_dispatch='2*n_jobs', refit=True, return_train_score=False,\n",
       "             scoring='roc_auc', verbose=3)"
      ]
     },
     "execution_count": 81,
     "metadata": {},
     "output_type": "execute_result"
    }
   ],
   "source": [
    "grid_RFM.fit(X_train_4, y_train_4)"
   ]
  },
  {
   "cell_type": "code",
   "execution_count": 82,
   "metadata": {},
   "outputs": [],
   "source": [
    "grid_RFM_predictions = grid_RFM.predict(X_test_4)"
   ]
  },
  {
   "cell_type": "code",
   "execution_count": 83,
   "metadata": {},
   "outputs": [
    {
     "name": "stdout",
     "output_type": "stream",
     "text": [
      "Model 4 (random forrest with gridsearch) Classification Report:\n",
      "              precision    recall  f1-score   support\n",
      "\n",
      "  No default       0.91      1.00      0.95     47895\n",
      "     Default       0.00      0.00      0.00      4657\n",
      "\n",
      "    accuracy                           0.91     52552\n",
      "   macro avg       0.46      0.50      0.48     52552\n",
      "weighted avg       0.83      0.91      0.87     52552\n",
      "\n",
      "\n",
      "\n",
      "\n",
      "Model 4 (random forrest with gridsearch) Accuracy Score:\n",
      "0.9113830111128025\n",
      "\n",
      "\n",
      "\n",
      "Model 4 (random forrest with gridsearch) AUC Score:\n"
     ]
    },
    {
     "name": "stderr",
     "output_type": "stream",
     "text": [
      "/Applications/anaconda3/lib/python3.7/site-packages/sklearn/metrics/classification.py:1437: UndefinedMetricWarning: Precision and F-score are ill-defined and being set to 0.0 in labels with no predicted samples.\n",
      "  'precision', 'predicted', average, warn_for)\n"
     ]
    },
    {
     "name": "stdout",
     "output_type": "stream",
     "text": [
      "0.7382156672215496\n"
     ]
    }
   ],
   "source": [
    "print(\"Model 4 (random forrest with gridsearch) Classification Report:\")\n",
    "print(classification_report(y_test_4, grid_RFM_predictions,\n",
    "                            target_names=['No default', 'Default']))\n",
    "print('\\n\\n')\n",
    "\n",
    "print(\"Model 4 (random forrest with gridsearch) Accuracy Score:\")\n",
    "print(accuracy_score(y_test_4, grid_RFM_predictions))\n",
    "print('\\n\\n')\n",
    "\n",
    "print(\"Model 4 (random forrest with gridsearch) AUC Score:\")\n",
    "print(roc_auc_score(y_test_4, grid_RFM.predict_proba(X_test_4)[:,1]))"
   ]
  },
  {
   "cell_type": "code",
   "execution_count": null,
   "metadata": {},
   "outputs": [],
   "source": []
  }
 ],
 "metadata": {
  "kernelspec": {
   "display_name": "Python 3",
   "language": "python",
   "name": "python3"
  },
  "language_info": {
   "codemirror_mode": {
    "name": "ipython",
    "version": 3
   },
   "file_extension": ".py",
   "mimetype": "text/x-python",
   "name": "python",
   "nbconvert_exporter": "python",
   "pygments_lexer": "ipython3",
   "version": "3.7.4"
  }
 },
 "nbformat": 4,
 "nbformat_minor": 4
}
